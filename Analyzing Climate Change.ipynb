{
 "cells": [
  {
   "cell_type": "code",
   "execution_count": 448,
   "id": "0222a435",
   "metadata": {},
   "outputs": [
    {
     "data": {
      "text/html": [
       "        <script type=\"text/javascript\">\n",
       "        window.PlotlyConfig = {MathJaxConfig: 'local'};\n",
       "        if (window.MathJax && window.MathJax.Hub && window.MathJax.Hub.Config) {window.MathJax.Hub.Config({SVG: {font: \"STIX-Web\"}});}\n",
       "        if (typeof require !== 'undefined') {\n",
       "        require.undef(\"plotly\");\n",
       "        requirejs.config({\n",
       "            paths: {\n",
       "                'plotly': ['https://cdn.plot.ly/plotly-2.12.1.min']\n",
       "            }\n",
       "        });\n",
       "        require(['plotly'], function(Plotly) {\n",
       "            window._Plotly = Plotly;\n",
       "        });\n",
       "        }\n",
       "        </script>\n",
       "        "
      ]
     },
     "metadata": {},
     "output_type": "display_data"
    }
   ],
   "source": [
    "import pandas as pd\n",
    "import numpy as np\n",
    "import numpy as np\n",
    "import pandas as pd\n",
    "import matplotlib.pyplot as plt\n",
    "%matplotlib inline\n",
    "import plotly.offline as py\n",
    "py.init_notebook_mode(connected=True)\n",
    "import plotly.graph_objs as go\n",
    "import plotly.tools as tls\n",
    "import seaborn as sns\n",
    "import time\n",
    "import warnings\n",
    "warnings.filterwarnings('ignore')\n"
   ]
  },
  {
   "cell_type": "markdown",
   "id": "0540b7bd",
   "metadata": {},
   "source": [
    "# Problem Statement-1\n",
    " analyze the change in temperatures across globe from the 17th century till now"
   ]
  },
  {
   "cell_type": "markdown",
   "id": "983da92b",
   "metadata": {},
   "source": [
    "### Importing CSV File"
   ]
  },
  {
   "cell_type": "code",
   "execution_count": 449,
   "id": "c6b3c024",
   "metadata": {},
   "outputs": [
    {
     "name": "stdout",
     "output_type": "stream",
     "text": [
      " Volume in drive C is ssd\n",
      " Volume Serial Number is 344C-651C\n",
      "\n",
      " Directory of C:\\Users\\phoneclicker\\Downloads\\excelr_kd\\project on aggriculture\n",
      "\n",
      "02/16/2023  04:27 PM    <DIR>          .\n",
      "02/16/2023  04:27 PM    <DIR>          ..\n",
      "01/19/2023  09:37 AM    <DIR>          .ipynb_checkpoints\n",
      "01/17/2023  03:57 PM            50,208 a4039245-21ac-4e87-b3be-45a2e1803744.pdf\n",
      "02/16/2023  04:27 PM           134,237 Analyzing Climate Change.ipynb\n",
      "01/17/2023  12:07 PM           374,263 Analyzing Climate Change.pdf\n",
      "02/16/2023  04:32 PM        27,562,776 Final_for.sav\n",
      "02/16/2023  04:23 PM               895 forecast_kd.py\n",
      "01/19/2023  09:34 AM       532,830,464 GlobalLandTemperaturesByCity.csv\n",
      "01/19/2023  09:34 AM        22,680,393 GlobalLandTemperaturesByCountry.csv\n",
      "01/19/2023  09:34 AM        14,138,385 GlobalLandTemperaturesByMajorCity.csv\n",
      "01/19/2023  09:34 AM        30,770,160 GlobalLandTemperaturesByState.csv\n",
      "01/18/2023  12:54 PM           205,875 GlobalTemperatures.csv\n",
      "              10 File(s)    628,747,656 bytes\n",
      "               3 Dir(s)  49,059,282,944 bytes free\n"
     ]
    }
   ],
   "source": [
    "ls"
   ]
  },
  {
   "cell_type": "code",
   "execution_count": 450,
   "id": "c0122f10",
   "metadata": {},
   "outputs": [],
   "source": [
    "main_data=pd.read_csv(\"GlobalLandTemperaturesByCountry.csv\")"
   ]
  },
  {
   "cell_type": "code",
   "execution_count": 451,
   "id": "d67436d1",
   "metadata": {},
   "outputs": [
    {
     "data": {
      "text/html": [
       "<div>\n",
       "<style scoped>\n",
       "    .dataframe tbody tr th:only-of-type {\n",
       "        vertical-align: middle;\n",
       "    }\n",
       "\n",
       "    .dataframe tbody tr th {\n",
       "        vertical-align: top;\n",
       "    }\n",
       "\n",
       "    .dataframe thead th {\n",
       "        text-align: right;\n",
       "    }\n",
       "</style>\n",
       "<table border=\"1\" class=\"dataframe\">\n",
       "  <thead>\n",
       "    <tr style=\"text-align: right;\">\n",
       "      <th></th>\n",
       "      <th>dt</th>\n",
       "      <th>AverageTemperature</th>\n",
       "      <th>AverageTemperatureUncertainty</th>\n",
       "      <th>Country</th>\n",
       "    </tr>\n",
       "  </thead>\n",
       "  <tbody>\n",
       "    <tr>\n",
       "      <th>0</th>\n",
       "      <td>1743-11-01</td>\n",
       "      <td>4.384</td>\n",
       "      <td>2.294</td>\n",
       "      <td>Åland</td>\n",
       "    </tr>\n",
       "    <tr>\n",
       "      <th>1</th>\n",
       "      <td>1743-12-01</td>\n",
       "      <td>NaN</td>\n",
       "      <td>NaN</td>\n",
       "      <td>Åland</td>\n",
       "    </tr>\n",
       "    <tr>\n",
       "      <th>2</th>\n",
       "      <td>1744-01-01</td>\n",
       "      <td>NaN</td>\n",
       "      <td>NaN</td>\n",
       "      <td>Åland</td>\n",
       "    </tr>\n",
       "    <tr>\n",
       "      <th>3</th>\n",
       "      <td>1744-02-01</td>\n",
       "      <td>NaN</td>\n",
       "      <td>NaN</td>\n",
       "      <td>Åland</td>\n",
       "    </tr>\n",
       "    <tr>\n",
       "      <th>4</th>\n",
       "      <td>1744-03-01</td>\n",
       "      <td>NaN</td>\n",
       "      <td>NaN</td>\n",
       "      <td>Åland</td>\n",
       "    </tr>\n",
       "    <tr>\n",
       "      <th>...</th>\n",
       "      <td>...</td>\n",
       "      <td>...</td>\n",
       "      <td>...</td>\n",
       "      <td>...</td>\n",
       "    </tr>\n",
       "    <tr>\n",
       "      <th>577457</th>\n",
       "      <td>2013-05-01</td>\n",
       "      <td>19.059</td>\n",
       "      <td>1.022</td>\n",
       "      <td>Zimbabwe</td>\n",
       "    </tr>\n",
       "    <tr>\n",
       "      <th>577458</th>\n",
       "      <td>2013-06-01</td>\n",
       "      <td>17.613</td>\n",
       "      <td>0.473</td>\n",
       "      <td>Zimbabwe</td>\n",
       "    </tr>\n",
       "    <tr>\n",
       "      <th>577459</th>\n",
       "      <td>2013-07-01</td>\n",
       "      <td>17.000</td>\n",
       "      <td>0.453</td>\n",
       "      <td>Zimbabwe</td>\n",
       "    </tr>\n",
       "    <tr>\n",
       "      <th>577460</th>\n",
       "      <td>2013-08-01</td>\n",
       "      <td>19.759</td>\n",
       "      <td>0.717</td>\n",
       "      <td>Zimbabwe</td>\n",
       "    </tr>\n",
       "    <tr>\n",
       "      <th>577461</th>\n",
       "      <td>2013-09-01</td>\n",
       "      <td>NaN</td>\n",
       "      <td>NaN</td>\n",
       "      <td>Zimbabwe</td>\n",
       "    </tr>\n",
       "  </tbody>\n",
       "</table>\n",
       "<p>577462 rows × 4 columns</p>\n",
       "</div>"
      ],
      "text/plain": [
       "                dt  AverageTemperature  AverageTemperatureUncertainty  \\\n",
       "0       1743-11-01               4.384                          2.294   \n",
       "1       1743-12-01                 NaN                            NaN   \n",
       "2       1744-01-01                 NaN                            NaN   \n",
       "3       1744-02-01                 NaN                            NaN   \n",
       "4       1744-03-01                 NaN                            NaN   \n",
       "...            ...                 ...                            ...   \n",
       "577457  2013-05-01              19.059                          1.022   \n",
       "577458  2013-06-01              17.613                          0.473   \n",
       "577459  2013-07-01              17.000                          0.453   \n",
       "577460  2013-08-01              19.759                          0.717   \n",
       "577461  2013-09-01                 NaN                            NaN   \n",
       "\n",
       "         Country  \n",
       "0          Åland  \n",
       "1          Åland  \n",
       "2          Åland  \n",
       "3          Åland  \n",
       "4          Åland  \n",
       "...          ...  \n",
       "577457  Zimbabwe  \n",
       "577458  Zimbabwe  \n",
       "577459  Zimbabwe  \n",
       "577460  Zimbabwe  \n",
       "577461  Zimbabwe  \n",
       "\n",
       "[577462 rows x 4 columns]"
      ]
     },
     "execution_count": 451,
     "metadata": {},
     "output_type": "execute_result"
    }
   ],
   "source": [
    "main_data"
   ]
  },
  {
   "cell_type": "code",
   "execution_count": 452,
   "id": "fd11af03",
   "metadata": {},
   "outputs": [
    {
     "data": {
      "text/plain": [
       "0         1743-11-01\n",
       "1         1743-12-01\n",
       "2         1744-01-01\n",
       "3         1744-02-01\n",
       "4         1744-03-01\n",
       "             ...    \n",
       "577457    2013-05-01\n",
       "577458    2013-06-01\n",
       "577459    2013-07-01\n",
       "577460    2013-08-01\n",
       "577461    2013-09-01\n",
       "Name: dt, Length: 577462, dtype: object"
      ]
     },
     "execution_count": 452,
     "metadata": {},
     "output_type": "execute_result"
    }
   ],
   "source": [
    "main_data[\"dt\"]"
   ]
  },
  {
   "cell_type": "code",
   "execution_count": 453,
   "id": "e86121cd",
   "metadata": {},
   "outputs": [
    {
     "data": {
      "text/plain": [
       "dt                                   0\n",
       "AverageTemperature               32651\n",
       "AverageTemperatureUncertainty    31912\n",
       "Country                              0\n",
       "dtype: int64"
      ]
     },
     "execution_count": 453,
     "metadata": {},
     "output_type": "execute_result"
    }
   ],
   "source": [
    "main_data.isna().sum()"
   ]
  },
  {
   "cell_type": "code",
   "execution_count": 454,
   "id": "0f76fa9e",
   "metadata": {},
   "outputs": [
    {
     "data": {
      "text/html": [
       "<div>\n",
       "<style scoped>\n",
       "    .dataframe tbody tr th:only-of-type {\n",
       "        vertical-align: middle;\n",
       "    }\n",
       "\n",
       "    .dataframe tbody tr th {\n",
       "        vertical-align: top;\n",
       "    }\n",
       "\n",
       "    .dataframe thead th {\n",
       "        text-align: right;\n",
       "    }\n",
       "</style>\n",
       "<table border=\"1\" class=\"dataframe\">\n",
       "  <thead>\n",
       "    <tr style=\"text-align: right;\">\n",
       "      <th></th>\n",
       "      <th>AverageTemperature</th>\n",
       "      <th>AverageTemperatureUncertainty</th>\n",
       "    </tr>\n",
       "  </thead>\n",
       "  <tbody>\n",
       "    <tr>\n",
       "      <th>count</th>\n",
       "      <td>544811.000000</td>\n",
       "      <td>545550.000000</td>\n",
       "    </tr>\n",
       "    <tr>\n",
       "      <th>mean</th>\n",
       "      <td>17.193354</td>\n",
       "      <td>1.019057</td>\n",
       "    </tr>\n",
       "    <tr>\n",
       "      <th>std</th>\n",
       "      <td>10.953966</td>\n",
       "      <td>1.201930</td>\n",
       "    </tr>\n",
       "    <tr>\n",
       "      <th>min</th>\n",
       "      <td>-37.658000</td>\n",
       "      <td>0.052000</td>\n",
       "    </tr>\n",
       "    <tr>\n",
       "      <th>25%</th>\n",
       "      <td>10.025000</td>\n",
       "      <td>0.323000</td>\n",
       "    </tr>\n",
       "    <tr>\n",
       "      <th>50%</th>\n",
       "      <td>20.901000</td>\n",
       "      <td>0.571000</td>\n",
       "    </tr>\n",
       "    <tr>\n",
       "      <th>75%</th>\n",
       "      <td>25.814000</td>\n",
       "      <td>1.206000</td>\n",
       "    </tr>\n",
       "    <tr>\n",
       "      <th>max</th>\n",
       "      <td>38.842000</td>\n",
       "      <td>15.003000</td>\n",
       "    </tr>\n",
       "  </tbody>\n",
       "</table>\n",
       "</div>"
      ],
      "text/plain": [
       "       AverageTemperature  AverageTemperatureUncertainty\n",
       "count       544811.000000                  545550.000000\n",
       "mean            17.193354                       1.019057\n",
       "std             10.953966                       1.201930\n",
       "min            -37.658000                       0.052000\n",
       "25%             10.025000                       0.323000\n",
       "50%             20.901000                       0.571000\n",
       "75%             25.814000                       1.206000\n",
       "max             38.842000                      15.003000"
      ]
     },
     "execution_count": 454,
     "metadata": {},
     "output_type": "execute_result"
    }
   ],
   "source": [
    "main_data.describe()"
   ]
  },
  {
   "cell_type": "code",
   "execution_count": 455,
   "id": "1291d21b",
   "metadata": {},
   "outputs": [
    {
     "data": {
      "text/plain": [
       "dt          AverageTemperature  AverageTemperatureUncertainty  Country                 \n",
       "1743-11-01  -3.571              2.965                          Finland                     1\n",
       "1951-02-01   23.783             0.272                          British Virgin Islands      1\n",
       "             24.553             0.519                          Nicaragua                   1\n",
       "             24.511             0.508                          Colombia                    1\n",
       "             24.419             0.454                          Madagascar                  1\n",
       "                                                                                          ..\n",
       "1887-10-01   9.399              0.298                          Jersey                      1\n",
       "                                                               Guernsey                    1\n",
       "             9.326              0.583                          Croatia                     1\n",
       "             9.174              0.766                          New Zealand                 1\n",
       "2013-09-01   29.770             1.005                          Turks And Caicas Islands    1\n",
       "Length: 544811, dtype: int64"
      ]
     },
     "execution_count": 455,
     "metadata": {},
     "output_type": "execute_result"
    }
   ],
   "source": [
    "main_data.value_counts()"
   ]
  },
  {
   "cell_type": "code",
   "execution_count": 456,
   "id": "f35182ee",
   "metadata": {},
   "outputs": [
    {
     "data": {
      "text/plain": [
       "array(['Afghanistan', 'Africa', 'Albania', 'Algeria', 'American Samoa',\n",
       "       'Andorra', 'Angola', 'Anguilla', 'Antarctica',\n",
       "       'Antigua And Barbuda', 'Argentina', 'Armenia', 'Aruba', 'Asia',\n",
       "       'Australia', 'Austria', 'Azerbaijan', 'Bahamas', 'Bahrain',\n",
       "       'Baker Island', 'Bangladesh', 'Barbados', 'Belarus', 'Belgium',\n",
       "       'Belize', 'Benin', 'Bhutan', 'Bolivia',\n",
       "       'Bonaire, Saint Eustatius And Saba', 'Bosnia And Herzegovina',\n",
       "       'Botswana', 'Brazil', 'British Virgin Islands', 'Bulgaria',\n",
       "       'Burkina Faso', 'Burma', 'Burundi', 'Cambodia', 'Cameroon',\n",
       "       'Canada', 'Cape Verde', 'Cayman Islands',\n",
       "       'Central African Republic', 'Chad', 'Chile', 'China',\n",
       "       'Christmas Island', 'Colombia', 'Comoros', 'Congo',\n",
       "       'Congo (Democratic Republic Of The)', 'Costa Rica', 'Croatia',\n",
       "       'Cuba', 'Curaçao', 'Cyprus', 'Czech Republic', \"Côte D'Ivoire\",\n",
       "       'Denmark', 'Denmark (Europe)', 'Djibouti', 'Dominica',\n",
       "       'Dominican Republic', 'Ecuador', 'Egypt', 'El Salvador',\n",
       "       'Equatorial Guinea', 'Eritrea', 'Estonia', 'Ethiopia', 'Europe',\n",
       "       'Falkland Islands (Islas Malvinas)', 'Faroe Islands',\n",
       "       'Federated States Of Micronesia', 'Fiji', 'Finland', 'France',\n",
       "       'France (Europe)', 'French Guiana', 'French Polynesia',\n",
       "       'French Southern And Antarctic Lands', 'Gabon', 'Gambia',\n",
       "       'Gaza Strip', 'Georgia', 'Germany', 'Ghana', 'Greece', 'Greenland',\n",
       "       'Grenada', 'Guadeloupe', 'Guam', 'Guatemala', 'Guernsey', 'Guinea',\n",
       "       'Guinea Bissau', 'Guyana', 'Haiti',\n",
       "       'Heard Island And Mcdonald Islands', 'Honduras', 'Hong Kong',\n",
       "       'Hungary', 'Iceland', 'India', 'Indonesia', 'Iran', 'Iraq',\n",
       "       'Ireland', 'Isle Of Man', 'Israel', 'Italy', 'Jamaica', 'Japan',\n",
       "       'Jersey', 'Jordan', 'Kazakhstan', 'Kenya', 'Kingman Reef',\n",
       "       'Kiribati', 'Kuwait', 'Kyrgyzstan', 'Laos', 'Latvia', 'Lebanon',\n",
       "       'Lesotho', 'Liberia', 'Libya', 'Liechtenstein', 'Lithuania',\n",
       "       'Luxembourg', 'Macau', 'Macedonia', 'Madagascar', 'Malawi',\n",
       "       'Malaysia', 'Mali', 'Malta', 'Martinique', 'Mauritania',\n",
       "       'Mauritius', 'Mayotte', 'Mexico', 'Moldova', 'Monaco', 'Mongolia',\n",
       "       'Montenegro', 'Montserrat', 'Morocco', 'Mozambique', 'Namibia',\n",
       "       'Nepal', 'Netherlands', 'Netherlands (Europe)', 'New Caledonia',\n",
       "       'New Zealand', 'Nicaragua', 'Niger', 'Nigeria', 'Niue',\n",
       "       'North America', 'North Korea', 'Northern Mariana Islands',\n",
       "       'Norway', 'Oceania', 'Oman', 'Pakistan', 'Palau', 'Palestina',\n",
       "       'Palmyra Atoll', 'Panama', 'Papua New Guinea', 'Paraguay', 'Peru',\n",
       "       'Philippines', 'Poland', 'Portugal', 'Puerto Rico', 'Qatar',\n",
       "       'Reunion', 'Romania', 'Russia', 'Rwanda', 'Saint Barthélemy',\n",
       "       'Saint Kitts And Nevis', 'Saint Lucia', 'Saint Martin',\n",
       "       'Saint Pierre And Miquelon', 'Saint Vincent And The Grenadines',\n",
       "       'Samoa', 'San Marino', 'Sao Tome And Principe', 'Saudi Arabia',\n",
       "       'Senegal', 'Serbia', 'Seychelles', 'Sierra Leone', 'Singapore',\n",
       "       'Sint Maarten', 'Slovakia', 'Slovenia', 'Solomon Islands',\n",
       "       'Somalia', 'South Africa', 'South America',\n",
       "       'South Georgia And The South Sandwich Isla', 'South Korea',\n",
       "       'Spain', 'Sri Lanka', 'Sudan', 'Suriname',\n",
       "       'Svalbard And Jan Mayen', 'Swaziland', 'Sweden', 'Switzerland',\n",
       "       'Syria', 'Taiwan', 'Tajikistan', 'Tanzania', 'Thailand',\n",
       "       'Timor Leste', 'Togo', 'Tonga', 'Trinidad And Tobago', 'Tunisia',\n",
       "       'Turkey', 'Turkmenistan', 'Turks And Caicas Islands', 'Uganda',\n",
       "       'Ukraine', 'United Arab Emirates', 'United Kingdom',\n",
       "       'United Kingdom (Europe)', 'United States', 'Uruguay',\n",
       "       'Uzbekistan', 'Venezuela', 'Vietnam', 'Virgin Islands',\n",
       "       'Western Sahara', 'Yemen', 'Zambia', 'Zimbabwe', 'Åland'],\n",
       "      dtype=object)"
      ]
     },
     "execution_count": 456,
     "metadata": {},
     "output_type": "execute_result"
    }
   ],
   "source": [
    "np.unique(main_data[\"Country\"])"
   ]
  },
  {
   "cell_type": "code",
   "execution_count": 457,
   "id": "658644f4",
   "metadata": {},
   "outputs": [
    {
     "data": {
      "text/plain": [
       "Åland                                  3239\n",
       "Faroe Islands                          3239\n",
       "Greece                                 3239\n",
       "Germany                                3239\n",
       "Saint Pierre And Miquelon              3239\n",
       "                                       ... \n",
       "Northern Mariana Islands               1329\n",
       "Guam                                   1329\n",
       "Heard Island And Mcdonald Islands       788\n",
       "French Southern And Antarctic Lands     788\n",
       "Antarctica                              764\n",
       "Name: Country, Length: 243, dtype: int64"
      ]
     },
     "execution_count": 457,
     "metadata": {},
     "output_type": "execute_result"
    }
   ],
   "source": [
    "main_data[\"Country\"].value_counts()"
   ]
  },
  {
   "cell_type": "markdown",
   "id": "07f2edcb",
   "metadata": {},
   "source": [
    "# Feature Engineering"
   ]
  },
  {
   "cell_type": "code",
   "execution_count": 458,
   "id": "e36b9292",
   "metadata": {},
   "outputs": [],
   "source": [
    "main_data_mod=main_data.dropna(inplace=False)\n"
   ]
  },
  {
   "cell_type": "code",
   "execution_count": 459,
   "id": "55a446c8",
   "metadata": {},
   "outputs": [
    {
     "data": {
      "text/html": [
       "<div>\n",
       "<style scoped>\n",
       "    .dataframe tbody tr th:only-of-type {\n",
       "        vertical-align: middle;\n",
       "    }\n",
       "\n",
       "    .dataframe tbody tr th {\n",
       "        vertical-align: top;\n",
       "    }\n",
       "\n",
       "    .dataframe thead th {\n",
       "        text-align: right;\n",
       "    }\n",
       "</style>\n",
       "<table border=\"1\" class=\"dataframe\">\n",
       "  <thead>\n",
       "    <tr style=\"text-align: right;\">\n",
       "      <th></th>\n",
       "      <th>dt</th>\n",
       "      <th>AverageTemperature</th>\n",
       "      <th>AverageTemperatureUncertainty</th>\n",
       "      <th>Country</th>\n",
       "    </tr>\n",
       "  </thead>\n",
       "  <tbody>\n",
       "    <tr>\n",
       "      <th>0</th>\n",
       "      <td>1743-11-01</td>\n",
       "      <td>4.384</td>\n",
       "      <td>2.294</td>\n",
       "      <td>Åland</td>\n",
       "    </tr>\n",
       "    <tr>\n",
       "      <th>5</th>\n",
       "      <td>1744-04-01</td>\n",
       "      <td>1.530</td>\n",
       "      <td>4.680</td>\n",
       "      <td>Åland</td>\n",
       "    </tr>\n",
       "    <tr>\n",
       "      <th>6</th>\n",
       "      <td>1744-05-01</td>\n",
       "      <td>6.702</td>\n",
       "      <td>1.789</td>\n",
       "      <td>Åland</td>\n",
       "    </tr>\n",
       "    <tr>\n",
       "      <th>7</th>\n",
       "      <td>1744-06-01</td>\n",
       "      <td>11.609</td>\n",
       "      <td>1.577</td>\n",
       "      <td>Åland</td>\n",
       "    </tr>\n",
       "    <tr>\n",
       "      <th>8</th>\n",
       "      <td>1744-07-01</td>\n",
       "      <td>15.342</td>\n",
       "      <td>1.410</td>\n",
       "      <td>Åland</td>\n",
       "    </tr>\n",
       "    <tr>\n",
       "      <th>...</th>\n",
       "      <td>...</td>\n",
       "      <td>...</td>\n",
       "      <td>...</td>\n",
       "      <td>...</td>\n",
       "    </tr>\n",
       "    <tr>\n",
       "      <th>577456</th>\n",
       "      <td>2013-04-01</td>\n",
       "      <td>21.142</td>\n",
       "      <td>0.495</td>\n",
       "      <td>Zimbabwe</td>\n",
       "    </tr>\n",
       "    <tr>\n",
       "      <th>577457</th>\n",
       "      <td>2013-05-01</td>\n",
       "      <td>19.059</td>\n",
       "      <td>1.022</td>\n",
       "      <td>Zimbabwe</td>\n",
       "    </tr>\n",
       "    <tr>\n",
       "      <th>577458</th>\n",
       "      <td>2013-06-01</td>\n",
       "      <td>17.613</td>\n",
       "      <td>0.473</td>\n",
       "      <td>Zimbabwe</td>\n",
       "    </tr>\n",
       "    <tr>\n",
       "      <th>577459</th>\n",
       "      <td>2013-07-01</td>\n",
       "      <td>17.000</td>\n",
       "      <td>0.453</td>\n",
       "      <td>Zimbabwe</td>\n",
       "    </tr>\n",
       "    <tr>\n",
       "      <th>577460</th>\n",
       "      <td>2013-08-01</td>\n",
       "      <td>19.759</td>\n",
       "      <td>0.717</td>\n",
       "      <td>Zimbabwe</td>\n",
       "    </tr>\n",
       "  </tbody>\n",
       "</table>\n",
       "<p>544811 rows × 4 columns</p>\n",
       "</div>"
      ],
      "text/plain": [
       "                dt  AverageTemperature  AverageTemperatureUncertainty  \\\n",
       "0       1743-11-01               4.384                          2.294   \n",
       "5       1744-04-01               1.530                          4.680   \n",
       "6       1744-05-01               6.702                          1.789   \n",
       "7       1744-06-01              11.609                          1.577   \n",
       "8       1744-07-01              15.342                          1.410   \n",
       "...            ...                 ...                            ...   \n",
       "577456  2013-04-01              21.142                          0.495   \n",
       "577457  2013-05-01              19.059                          1.022   \n",
       "577458  2013-06-01              17.613                          0.473   \n",
       "577459  2013-07-01              17.000                          0.453   \n",
       "577460  2013-08-01              19.759                          0.717   \n",
       "\n",
       "         Country  \n",
       "0          Åland  \n",
       "5          Åland  \n",
       "6          Åland  \n",
       "7          Åland  \n",
       "8          Åland  \n",
       "...          ...  \n",
       "577456  Zimbabwe  \n",
       "577457  Zimbabwe  \n",
       "577458  Zimbabwe  \n",
       "577459  Zimbabwe  \n",
       "577460  Zimbabwe  \n",
       "\n",
       "[544811 rows x 4 columns]"
      ]
     },
     "execution_count": 459,
     "metadata": {},
     "output_type": "execute_result"
    }
   ],
   "source": [
    "main_data_mod"
   ]
  },
  {
   "cell_type": "code",
   "execution_count": 460,
   "id": "4ef8fb57",
   "metadata": {},
   "outputs": [
    {
     "data": {
      "text/plain": [
       "Åland                                  3166\n",
       "Bulgaria                               3166\n",
       "Romania                                3166\n",
       "Poland                                 3166\n",
       "Norway                                 3166\n",
       "                                       ... \n",
       "Federated States Of Micronesia         1364\n",
       "Northern Mariana Islands               1328\n",
       "Guam                                   1328\n",
       "French Southern And Antarctic Lands     783\n",
       "Heard Island And Mcdonald Islands       783\n",
       "Name: Country, Length: 242, dtype: int64"
      ]
     },
     "execution_count": 460,
     "metadata": {},
     "output_type": "execute_result"
    }
   ],
   "source": [
    "main_data_mod[\"Country\"].value_counts()"
   ]
  },
  {
   "cell_type": "code",
   "execution_count": 461,
   "id": "c2f61b91",
   "metadata": {},
   "outputs": [
    {
     "data": {
      "text/plain": [
       "(544811, 4)"
      ]
     },
     "execution_count": 461,
     "metadata": {},
     "output_type": "execute_result"
    }
   ],
   "source": [
    "main_data_mod.shape"
   ]
  },
  {
   "cell_type": "code",
   "execution_count": 462,
   "id": "b65dce2c",
   "metadata": {},
   "outputs": [
    {
     "data": {
      "text/html": [
       "<div>\n",
       "<style scoped>\n",
       "    .dataframe tbody tr th:only-of-type {\n",
       "        vertical-align: middle;\n",
       "    }\n",
       "\n",
       "    .dataframe tbody tr th {\n",
       "        vertical-align: top;\n",
       "    }\n",
       "\n",
       "    .dataframe thead th {\n",
       "        text-align: right;\n",
       "    }\n",
       "</style>\n",
       "<table border=\"1\" class=\"dataframe\">\n",
       "  <thead>\n",
       "    <tr style=\"text-align: right;\">\n",
       "      <th></th>\n",
       "      <th>AverageTemperature</th>\n",
       "      <th>AverageTemperatureUncertainty</th>\n",
       "    </tr>\n",
       "  </thead>\n",
       "  <tbody>\n",
       "    <tr>\n",
       "      <th>count</th>\n",
       "      <td>544811.000000</td>\n",
       "      <td>544811.000000</td>\n",
       "    </tr>\n",
       "    <tr>\n",
       "      <th>mean</th>\n",
       "      <td>17.193354</td>\n",
       "      <td>1.019190</td>\n",
       "    </tr>\n",
       "    <tr>\n",
       "      <th>std</th>\n",
       "      <td>10.953966</td>\n",
       "      <td>1.202634</td>\n",
       "    </tr>\n",
       "    <tr>\n",
       "      <th>min</th>\n",
       "      <td>-37.658000</td>\n",
       "      <td>0.052000</td>\n",
       "    </tr>\n",
       "    <tr>\n",
       "      <th>25%</th>\n",
       "      <td>10.025000</td>\n",
       "      <td>0.323000</td>\n",
       "    </tr>\n",
       "    <tr>\n",
       "      <th>50%</th>\n",
       "      <td>20.901000</td>\n",
       "      <td>0.571000</td>\n",
       "    </tr>\n",
       "    <tr>\n",
       "      <th>75%</th>\n",
       "      <td>25.814000</td>\n",
       "      <td>1.207000</td>\n",
       "    </tr>\n",
       "    <tr>\n",
       "      <th>max</th>\n",
       "      <td>38.842000</td>\n",
       "      <td>15.003000</td>\n",
       "    </tr>\n",
       "  </tbody>\n",
       "</table>\n",
       "</div>"
      ],
      "text/plain": [
       "       AverageTemperature  AverageTemperatureUncertainty\n",
       "count       544811.000000                  544811.000000\n",
       "mean            17.193354                       1.019190\n",
       "std             10.953966                       1.202634\n",
       "min            -37.658000                       0.052000\n",
       "25%             10.025000                       0.323000\n",
       "50%             20.901000                       0.571000\n",
       "75%             25.814000                       1.207000\n",
       "max             38.842000                      15.003000"
      ]
     },
     "execution_count": 462,
     "metadata": {},
     "output_type": "execute_result"
    }
   ],
   "source": [
    "main_data_mod.describe()"
   ]
  },
  {
   "cell_type": "code",
   "execution_count": 463,
   "id": "189cdb9b",
   "metadata": {},
   "outputs": [
    {
     "name": "stdout",
     "output_type": "stream",
     "text": [
      "<class 'pandas.core.frame.DataFrame'>\n",
      "Int64Index: 544811 entries, 0 to 577460\n",
      "Data columns (total 4 columns):\n",
      " #   Column                         Non-Null Count   Dtype  \n",
      "---  ------                         --------------   -----  \n",
      " 0   dt                             544811 non-null  object \n",
      " 1   AverageTemperature             544811 non-null  float64\n",
      " 2   AverageTemperatureUncertainty  544811 non-null  float64\n",
      " 3   Country                        544811 non-null  object \n",
      "dtypes: float64(2), object(2)\n",
      "memory usage: 20.8+ MB\n"
     ]
    }
   ],
   "source": [
    "main_data_mod.info()"
   ]
  },
  {
   "cell_type": "markdown",
   "id": "51d03ebe",
   "metadata": {},
   "source": [
    "# Seprating  the Data "
   ]
  },
  {
   "cell_type": "markdown",
   "id": "2f744c07",
   "metadata": {},
   "source": [
    "# \"year\""
   ]
  },
  {
   "cell_type": "code",
   "execution_count": 464,
   "id": "18e0d6a2",
   "metadata": {},
   "outputs": [],
   "source": [
    "sep_data = main_data_mod[['dt','AverageTemperature']]"
   ]
  },
  {
   "cell_type": "code",
   "execution_count": 465,
   "id": "c2c9aa71",
   "metadata": {
    "scrolled": true
   },
   "outputs": [
    {
     "data": {
      "text/html": [
       "<div>\n",
       "<style scoped>\n",
       "    .dataframe tbody tr th:only-of-type {\n",
       "        vertical-align: middle;\n",
       "    }\n",
       "\n",
       "    .dataframe tbody tr th {\n",
       "        vertical-align: top;\n",
       "    }\n",
       "\n",
       "    .dataframe thead th {\n",
       "        text-align: right;\n",
       "    }\n",
       "</style>\n",
       "<table border=\"1\" class=\"dataframe\">\n",
       "  <thead>\n",
       "    <tr style=\"text-align: right;\">\n",
       "      <th></th>\n",
       "      <th>dt</th>\n",
       "      <th>AverageTemperature</th>\n",
       "    </tr>\n",
       "  </thead>\n",
       "  <tbody>\n",
       "    <tr>\n",
       "      <th>0</th>\n",
       "      <td>1743-11-01</td>\n",
       "      <td>4.384</td>\n",
       "    </tr>\n",
       "    <tr>\n",
       "      <th>5</th>\n",
       "      <td>1744-04-01</td>\n",
       "      <td>1.530</td>\n",
       "    </tr>\n",
       "    <tr>\n",
       "      <th>6</th>\n",
       "      <td>1744-05-01</td>\n",
       "      <td>6.702</td>\n",
       "    </tr>\n",
       "    <tr>\n",
       "      <th>7</th>\n",
       "      <td>1744-06-01</td>\n",
       "      <td>11.609</td>\n",
       "    </tr>\n",
       "    <tr>\n",
       "      <th>8</th>\n",
       "      <td>1744-07-01</td>\n",
       "      <td>15.342</td>\n",
       "    </tr>\n",
       "  </tbody>\n",
       "</table>\n",
       "</div>"
      ],
      "text/plain": [
       "           dt  AverageTemperature\n",
       "0  1743-11-01               4.384\n",
       "5  1744-04-01               1.530\n",
       "6  1744-05-01               6.702\n",
       "7  1744-06-01              11.609\n",
       "8  1744-07-01              15.342"
      ]
     },
     "execution_count": 465,
     "metadata": {},
     "output_type": "execute_result"
    }
   ],
   "source": [
    "sep_data.head()\n"
   ]
  },
  {
   "cell_type": "code",
   "execution_count": 466,
   "id": "23a9d184",
   "metadata": {},
   "outputs": [],
   "source": [
    "year = main_data_mod[['dt']]"
   ]
  },
  {
   "cell_type": "code",
   "execution_count": 467,
   "id": "8bbe186e",
   "metadata": {},
   "outputs": [
    {
     "data": {
      "text/html": [
       "<div>\n",
       "<style scoped>\n",
       "    .dataframe tbody tr th:only-of-type {\n",
       "        vertical-align: middle;\n",
       "    }\n",
       "\n",
       "    .dataframe tbody tr th {\n",
       "        vertical-align: top;\n",
       "    }\n",
       "\n",
       "    .dataframe thead th {\n",
       "        text-align: right;\n",
       "    }\n",
       "</style>\n",
       "<table border=\"1\" class=\"dataframe\">\n",
       "  <thead>\n",
       "    <tr style=\"text-align: right;\">\n",
       "      <th></th>\n",
       "      <th>dt</th>\n",
       "    </tr>\n",
       "  </thead>\n",
       "  <tbody>\n",
       "    <tr>\n",
       "      <th>0</th>\n",
       "      <td>1743-11-01</td>\n",
       "    </tr>\n",
       "    <tr>\n",
       "      <th>5</th>\n",
       "      <td>1744-04-01</td>\n",
       "    </tr>\n",
       "    <tr>\n",
       "      <th>6</th>\n",
       "      <td>1744-05-01</td>\n",
       "    </tr>\n",
       "    <tr>\n",
       "      <th>7</th>\n",
       "      <td>1744-06-01</td>\n",
       "    </tr>\n",
       "    <tr>\n",
       "      <th>8</th>\n",
       "      <td>1744-07-01</td>\n",
       "    </tr>\n",
       "    <tr>\n",
       "      <th>...</th>\n",
       "      <td>...</td>\n",
       "    </tr>\n",
       "    <tr>\n",
       "      <th>577456</th>\n",
       "      <td>2013-04-01</td>\n",
       "    </tr>\n",
       "    <tr>\n",
       "      <th>577457</th>\n",
       "      <td>2013-05-01</td>\n",
       "    </tr>\n",
       "    <tr>\n",
       "      <th>577458</th>\n",
       "      <td>2013-06-01</td>\n",
       "    </tr>\n",
       "    <tr>\n",
       "      <th>577459</th>\n",
       "      <td>2013-07-01</td>\n",
       "    </tr>\n",
       "    <tr>\n",
       "      <th>577460</th>\n",
       "      <td>2013-08-01</td>\n",
       "    </tr>\n",
       "  </tbody>\n",
       "</table>\n",
       "<p>544811 rows × 1 columns</p>\n",
       "</div>"
      ],
      "text/plain": [
       "                dt\n",
       "0       1743-11-01\n",
       "5       1744-04-01\n",
       "6       1744-05-01\n",
       "7       1744-06-01\n",
       "8       1744-07-01\n",
       "...            ...\n",
       "577456  2013-04-01\n",
       "577457  2013-05-01\n",
       "577458  2013-06-01\n",
       "577459  2013-07-01\n",
       "577460  2013-08-01\n",
       "\n",
       "[544811 rows x 1 columns]"
      ]
     },
     "execution_count": 467,
     "metadata": {},
     "output_type": "execute_result"
    }
   ],
   "source": [
    "year"
   ]
  },
  {
   "cell_type": "code",
   "execution_count": 468,
   "id": "43031927",
   "metadata": {},
   "outputs": [],
   "source": [
    "year1=pd.to_datetime(year[\"dt\"]).dt.year"
   ]
  },
  {
   "cell_type": "code",
   "execution_count": 469,
   "id": "a3a86171",
   "metadata": {},
   "outputs": [
    {
     "data": {
      "text/plain": [
       "0         1743\n",
       "5         1744\n",
       "6         1744\n",
       "7         1744\n",
       "8         1744\n",
       "          ... \n",
       "577456    2013\n",
       "577457    2013\n",
       "577458    2013\n",
       "577459    2013\n",
       "577460    2013\n",
       "Name: dt, Length: 544811, dtype: int64"
      ]
     },
     "execution_count": 469,
     "metadata": {},
     "output_type": "execute_result"
    }
   ],
   "source": [
    "year1"
   ]
  },
  {
   "cell_type": "code",
   "execution_count": 470,
   "id": "8a0a1641",
   "metadata": {},
   "outputs": [],
   "source": [
    "d={\"dt\"}\n",
    "year=pd.DataFrame(data=year1,columns=d)"
   ]
  },
  {
   "cell_type": "code",
   "execution_count": 471,
   "id": "87c72b7c",
   "metadata": {},
   "outputs": [
    {
     "data": {
      "text/html": [
       "<div>\n",
       "<style scoped>\n",
       "    .dataframe tbody tr th:only-of-type {\n",
       "        vertical-align: middle;\n",
       "    }\n",
       "\n",
       "    .dataframe tbody tr th {\n",
       "        vertical-align: top;\n",
       "    }\n",
       "\n",
       "    .dataframe thead th {\n",
       "        text-align: right;\n",
       "    }\n",
       "</style>\n",
       "<table border=\"1\" class=\"dataframe\">\n",
       "  <thead>\n",
       "    <tr style=\"text-align: right;\">\n",
       "      <th></th>\n",
       "      <th>dt</th>\n",
       "    </tr>\n",
       "  </thead>\n",
       "  <tbody>\n",
       "    <tr>\n",
       "      <th>0</th>\n",
       "      <td>1743</td>\n",
       "    </tr>\n",
       "    <tr>\n",
       "      <th>5</th>\n",
       "      <td>1744</td>\n",
       "    </tr>\n",
       "    <tr>\n",
       "      <th>6</th>\n",
       "      <td>1744</td>\n",
       "    </tr>\n",
       "    <tr>\n",
       "      <th>7</th>\n",
       "      <td>1744</td>\n",
       "    </tr>\n",
       "    <tr>\n",
       "      <th>8</th>\n",
       "      <td>1744</td>\n",
       "    </tr>\n",
       "    <tr>\n",
       "      <th>...</th>\n",
       "      <td>...</td>\n",
       "    </tr>\n",
       "    <tr>\n",
       "      <th>577456</th>\n",
       "      <td>2013</td>\n",
       "    </tr>\n",
       "    <tr>\n",
       "      <th>577457</th>\n",
       "      <td>2013</td>\n",
       "    </tr>\n",
       "    <tr>\n",
       "      <th>577458</th>\n",
       "      <td>2013</td>\n",
       "    </tr>\n",
       "    <tr>\n",
       "      <th>577459</th>\n",
       "      <td>2013</td>\n",
       "    </tr>\n",
       "    <tr>\n",
       "      <th>577460</th>\n",
       "      <td>2013</td>\n",
       "    </tr>\n",
       "  </tbody>\n",
       "</table>\n",
       "<p>544811 rows × 1 columns</p>\n",
       "</div>"
      ],
      "text/plain": [
       "          dt\n",
       "0       1743\n",
       "5       1744\n",
       "6       1744\n",
       "7       1744\n",
       "8       1744\n",
       "...      ...\n",
       "577456  2013\n",
       "577457  2013\n",
       "577458  2013\n",
       "577459  2013\n",
       "577460  2013\n",
       "\n",
       "[544811 rows x 1 columns]"
      ]
     },
     "execution_count": 471,
     "metadata": {},
     "output_type": "execute_result"
    }
   ],
   "source": [
    "year"
   ]
  },
  {
   "cell_type": "markdown",
   "id": "5bd0e28a",
   "metadata": {},
   "source": [
    "# average temprature"
   ]
  },
  {
   "cell_type": "code",
   "execution_count": 472,
   "id": "449fcc31",
   "metadata": {},
   "outputs": [
    {
     "data": {
      "text/html": [
       "<div>\n",
       "<style scoped>\n",
       "    .dataframe tbody tr th:only-of-type {\n",
       "        vertical-align: middle;\n",
       "    }\n",
       "\n",
       "    .dataframe tbody tr th {\n",
       "        vertical-align: top;\n",
       "    }\n",
       "\n",
       "    .dataframe thead th {\n",
       "        text-align: right;\n",
       "    }\n",
       "</style>\n",
       "<table border=\"1\" class=\"dataframe\">\n",
       "  <thead>\n",
       "    <tr style=\"text-align: right;\">\n",
       "      <th></th>\n",
       "      <th>AverageTemperature</th>\n",
       "    </tr>\n",
       "  </thead>\n",
       "  <tbody>\n",
       "    <tr>\n",
       "      <th>0</th>\n",
       "      <td>4.384</td>\n",
       "    </tr>\n",
       "    <tr>\n",
       "      <th>5</th>\n",
       "      <td>1.530</td>\n",
       "    </tr>\n",
       "    <tr>\n",
       "      <th>6</th>\n",
       "      <td>6.702</td>\n",
       "    </tr>\n",
       "    <tr>\n",
       "      <th>7</th>\n",
       "      <td>11.609</td>\n",
       "    </tr>\n",
       "    <tr>\n",
       "      <th>8</th>\n",
       "      <td>15.342</td>\n",
       "    </tr>\n",
       "    <tr>\n",
       "      <th>...</th>\n",
       "      <td>...</td>\n",
       "    </tr>\n",
       "    <tr>\n",
       "      <th>577456</th>\n",
       "      <td>21.142</td>\n",
       "    </tr>\n",
       "    <tr>\n",
       "      <th>577457</th>\n",
       "      <td>19.059</td>\n",
       "    </tr>\n",
       "    <tr>\n",
       "      <th>577458</th>\n",
       "      <td>17.613</td>\n",
       "    </tr>\n",
       "    <tr>\n",
       "      <th>577459</th>\n",
       "      <td>17.000</td>\n",
       "    </tr>\n",
       "    <tr>\n",
       "      <th>577460</th>\n",
       "      <td>19.759</td>\n",
       "    </tr>\n",
       "  </tbody>\n",
       "</table>\n",
       "<p>544811 rows × 1 columns</p>\n",
       "</div>"
      ],
      "text/plain": [
       "        AverageTemperature\n",
       "0                    4.384\n",
       "5                    1.530\n",
       "6                    6.702\n",
       "7                   11.609\n",
       "8                   15.342\n",
       "...                    ...\n",
       "577456              21.142\n",
       "577457              19.059\n",
       "577458              17.613\n",
       "577459              17.000\n",
       "577460              19.759\n",
       "\n",
       "[544811 rows x 1 columns]"
      ]
     },
     "execution_count": 472,
     "metadata": {},
     "output_type": "execute_result"
    }
   ],
   "source": [
    "avg_temp=sep_data[[\"AverageTemperature\"]]\n",
    "avg_temp"
   ]
  },
  {
   "cell_type": "markdown",
   "id": "6bacb777",
   "metadata": {},
   "source": [
    "# adding year and avg temp in one data frame"
   ]
  },
  {
   "cell_type": "code",
   "execution_count": 473,
   "id": "e99450d6",
   "metadata": {},
   "outputs": [],
   "source": [
    "year[\"AverageTemperature\"]=avg_temp"
   ]
  },
  {
   "cell_type": "code",
   "execution_count": 474,
   "id": "3ca280ea",
   "metadata": {},
   "outputs": [],
   "source": [
    "avg_year=year"
   ]
  },
  {
   "cell_type": "code",
   "execution_count": 475,
   "id": "4ec145c6",
   "metadata": {},
   "outputs": [
    {
     "data": {
      "text/html": [
       "<div>\n",
       "<style scoped>\n",
       "    .dataframe tbody tr th:only-of-type {\n",
       "        vertical-align: middle;\n",
       "    }\n",
       "\n",
       "    .dataframe tbody tr th {\n",
       "        vertical-align: top;\n",
       "    }\n",
       "\n",
       "    .dataframe thead th {\n",
       "        text-align: right;\n",
       "    }\n",
       "</style>\n",
       "<table border=\"1\" class=\"dataframe\">\n",
       "  <thead>\n",
       "    <tr style=\"text-align: right;\">\n",
       "      <th></th>\n",
       "      <th>dt</th>\n",
       "      <th>AverageTemperature</th>\n",
       "    </tr>\n",
       "  </thead>\n",
       "  <tbody>\n",
       "    <tr>\n",
       "      <th>0</th>\n",
       "      <td>1743</td>\n",
       "      <td>4.384</td>\n",
       "    </tr>\n",
       "    <tr>\n",
       "      <th>5</th>\n",
       "      <td>1744</td>\n",
       "      <td>1.530</td>\n",
       "    </tr>\n",
       "    <tr>\n",
       "      <th>6</th>\n",
       "      <td>1744</td>\n",
       "      <td>6.702</td>\n",
       "    </tr>\n",
       "    <tr>\n",
       "      <th>7</th>\n",
       "      <td>1744</td>\n",
       "      <td>11.609</td>\n",
       "    </tr>\n",
       "    <tr>\n",
       "      <th>8</th>\n",
       "      <td>1744</td>\n",
       "      <td>15.342</td>\n",
       "    </tr>\n",
       "    <tr>\n",
       "      <th>...</th>\n",
       "      <td>...</td>\n",
       "      <td>...</td>\n",
       "    </tr>\n",
       "    <tr>\n",
       "      <th>577456</th>\n",
       "      <td>2013</td>\n",
       "      <td>21.142</td>\n",
       "    </tr>\n",
       "    <tr>\n",
       "      <th>577457</th>\n",
       "      <td>2013</td>\n",
       "      <td>19.059</td>\n",
       "    </tr>\n",
       "    <tr>\n",
       "      <th>577458</th>\n",
       "      <td>2013</td>\n",
       "      <td>17.613</td>\n",
       "    </tr>\n",
       "    <tr>\n",
       "      <th>577459</th>\n",
       "      <td>2013</td>\n",
       "      <td>17.000</td>\n",
       "    </tr>\n",
       "    <tr>\n",
       "      <th>577460</th>\n",
       "      <td>2013</td>\n",
       "      <td>19.759</td>\n",
       "    </tr>\n",
       "  </tbody>\n",
       "</table>\n",
       "<p>544811 rows × 2 columns</p>\n",
       "</div>"
      ],
      "text/plain": [
       "          dt  AverageTemperature\n",
       "0       1743               4.384\n",
       "5       1744               1.530\n",
       "6       1744               6.702\n",
       "7       1744              11.609\n",
       "8       1744              15.342\n",
       "...      ...                 ...\n",
       "577456  2013              21.142\n",
       "577457  2013              19.059\n",
       "577458  2013              17.613\n",
       "577459  2013              17.000\n",
       "577460  2013              19.759\n",
       "\n",
       "[544811 rows x 2 columns]"
      ]
     },
     "execution_count": 475,
     "metadata": {},
     "output_type": "execute_result"
    }
   ],
   "source": [
    "avg_year"
   ]
  },
  {
   "cell_type": "markdown",
   "id": "58034d5e",
   "metadata": {},
   "source": [
    "# GroupBy From Year"
   ]
  },
  {
   "cell_type": "code",
   "execution_count": 476,
   "id": "0fc97d3f",
   "metadata": {},
   "outputs": [],
   "source": [
    "avg_year_group=avg_year.groupby(\"dt\").mean()"
   ]
  },
  {
   "cell_type": "code",
   "execution_count": 477,
   "id": "497f96cb",
   "metadata": {},
   "outputs": [
    {
     "data": {
      "text/html": [
       "<div>\n",
       "<style scoped>\n",
       "    .dataframe tbody tr th:only-of-type {\n",
       "        vertical-align: middle;\n",
       "    }\n",
       "\n",
       "    .dataframe tbody tr th {\n",
       "        vertical-align: top;\n",
       "    }\n",
       "\n",
       "    .dataframe thead th {\n",
       "        text-align: right;\n",
       "    }\n",
       "</style>\n",
       "<table border=\"1\" class=\"dataframe\">\n",
       "  <thead>\n",
       "    <tr style=\"text-align: right;\">\n",
       "      <th></th>\n",
       "      <th>AverageTemperature</th>\n",
       "    </tr>\n",
       "    <tr>\n",
       "      <th>dt</th>\n",
       "      <th></th>\n",
       "    </tr>\n",
       "  </thead>\n",
       "  <tbody>\n",
       "    <tr>\n",
       "      <th>1743</th>\n",
       "      <td>5.184140</td>\n",
       "    </tr>\n",
       "    <tr>\n",
       "      <th>1744</th>\n",
       "      <td>9.837898</td>\n",
       "    </tr>\n",
       "    <tr>\n",
       "      <th>1745</th>\n",
       "      <td>1.387125</td>\n",
       "    </tr>\n",
       "    <tr>\n",
       "      <th>1750</th>\n",
       "      <td>9.129353</td>\n",
       "    </tr>\n",
       "    <tr>\n",
       "      <th>1751</th>\n",
       "      <td>9.167388</td>\n",
       "    </tr>\n",
       "    <tr>\n",
       "      <th>...</th>\n",
       "      <td>...</td>\n",
       "    </tr>\n",
       "    <tr>\n",
       "      <th>2009</th>\n",
       "      <td>19.546385</td>\n",
       "    </tr>\n",
       "    <tr>\n",
       "      <th>2010</th>\n",
       "      <td>19.629806</td>\n",
       "    </tr>\n",
       "    <tr>\n",
       "      <th>2011</th>\n",
       "      <td>19.456040</td>\n",
       "    </tr>\n",
       "    <tr>\n",
       "      <th>2012</th>\n",
       "      <td>19.468744</td>\n",
       "    </tr>\n",
       "    <tr>\n",
       "      <th>2013</th>\n",
       "      <td>19.877007</td>\n",
       "    </tr>\n",
       "  </tbody>\n",
       "</table>\n",
       "<p>267 rows × 1 columns</p>\n",
       "</div>"
      ],
      "text/plain": [
       "      AverageTemperature\n",
       "dt                      \n",
       "1743            5.184140\n",
       "1744            9.837898\n",
       "1745            1.387125\n",
       "1750            9.129353\n",
       "1751            9.167388\n",
       "...                  ...\n",
       "2009           19.546385\n",
       "2010           19.629806\n",
       "2011           19.456040\n",
       "2012           19.468744\n",
       "2013           19.877007\n",
       "\n",
       "[267 rows x 1 columns]"
      ]
     },
     "execution_count": 477,
     "metadata": {},
     "output_type": "execute_result"
    }
   ],
   "source": [
    "avg_year_group"
   ]
  },
  {
   "cell_type": "markdown",
   "id": "b6504ca9",
   "metadata": {},
   "source": [
    "# Plot.1"
   ]
  },
  {
   "cell_type": "code",
   "execution_count": 478,
   "id": "5eb69d82",
   "metadata": {},
   "outputs": [],
   "source": [
    "#avg_year_group.plot(figsize=(16,4))"
   ]
  },
  {
   "cell_type": "code",
   "execution_count": 479,
   "id": "7369dd41",
   "metadata": {},
   "outputs": [],
   "source": [
    "x=year[\"dt\"]\n",
    "y=avg_temp[\"AverageTemperature\"]\n",
    "#plt.figure(figsize=(15,5))\n",
    "#plt.bar(x,y)\n",
    "#print(x.shape)\n",
    "#print(y.shape)"
   ]
  },
  {
   "cell_type": "code",
   "execution_count": 480,
   "id": "86b88d43",
   "metadata": {},
   "outputs": [],
   "source": [
    "#plt.hist(avg_year_group,bins=30, histtype='bar')"
   ]
  },
  {
   "cell_type": "code",
   "execution_count": 481,
   "id": "a49fe264",
   "metadata": {},
   "outputs": [],
   "source": [
    "#plt.scatter(x,y, s=2,c=\"blue\",marker=\"*\")"
   ]
  },
  {
   "cell_type": "markdown",
   "id": "422719c7",
   "metadata": {},
   "source": [
    "# Group By Countries Horizontal Graph"
   ]
  },
  {
   "cell_type": "code",
   "execution_count": 482,
   "id": "b5707d20",
   "metadata": {},
   "outputs": [],
   "source": [
    "main_data_mod=main_data.dropna(inplace=False)"
   ]
  },
  {
   "cell_type": "code",
   "execution_count": 483,
   "id": "857221a8",
   "metadata": {},
   "outputs": [],
   "source": [
    "data=main_data.groupby(\"Country\").mean()"
   ]
  },
  {
   "cell_type": "code",
   "execution_count": 484,
   "id": "2e3aedac",
   "metadata": {},
   "outputs": [
    {
     "data": {
      "text/html": [
       "<div>\n",
       "<style scoped>\n",
       "    .dataframe tbody tr th:only-of-type {\n",
       "        vertical-align: middle;\n",
       "    }\n",
       "\n",
       "    .dataframe tbody tr th {\n",
       "        vertical-align: top;\n",
       "    }\n",
       "\n",
       "    .dataframe thead th {\n",
       "        text-align: right;\n",
       "    }\n",
       "</style>\n",
       "<table border=\"1\" class=\"dataframe\">\n",
       "  <thead>\n",
       "    <tr style=\"text-align: right;\">\n",
       "      <th></th>\n",
       "      <th>AverageTemperature</th>\n",
       "      <th>AverageTemperatureUncertainty</th>\n",
       "    </tr>\n",
       "    <tr>\n",
       "      <th>Country</th>\n",
       "      <th></th>\n",
       "      <th></th>\n",
       "    </tr>\n",
       "  </thead>\n",
       "  <tbody>\n",
       "    <tr>\n",
       "      <th>Afghanistan</th>\n",
       "      <td>14.045007</td>\n",
       "      <td>0.930162</td>\n",
       "    </tr>\n",
       "    <tr>\n",
       "      <th>Africa</th>\n",
       "      <td>24.074203</td>\n",
       "      <td>0.395564</td>\n",
       "    </tr>\n",
       "    <tr>\n",
       "      <th>Albania</th>\n",
       "      <td>12.610646</td>\n",
       "      <td>1.524574</td>\n",
       "    </tr>\n",
       "    <tr>\n",
       "      <th>Algeria</th>\n",
       "      <td>22.985112</td>\n",
       "      <td>1.176241</td>\n",
       "    </tr>\n",
       "    <tr>\n",
       "      <th>American Samoa</th>\n",
       "      <td>26.611965</td>\n",
       "      <td>0.541258</td>\n",
       "    </tr>\n",
       "  </tbody>\n",
       "</table>\n",
       "</div>"
      ],
      "text/plain": [
       "                AverageTemperature  AverageTemperatureUncertainty\n",
       "Country                                                          \n",
       "Afghanistan              14.045007                       0.930162\n",
       "Africa                   24.074203                       0.395564\n",
       "Albania                  12.610646                       1.524574\n",
       "Algeria                  22.985112                       1.176241\n",
       "American Samoa           26.611965                       0.541258"
      ]
     },
     "execution_count": 484,
     "metadata": {},
     "output_type": "execute_result"
    }
   ],
   "source": [
    "data.head()"
   ]
  },
  {
   "cell_type": "code",
   "execution_count": 485,
   "id": "3bd20970",
   "metadata": {},
   "outputs": [
    {
     "data": {
      "text/plain": [
       "Index(['Afghanistan', 'Africa', 'Albania', 'Algeria', 'American Samoa',\n",
       "       'Andorra', 'Angola', 'Anguilla', 'Antarctica', 'Antigua And Barbuda',\n",
       "       ...\n",
       "       'Uruguay', 'Uzbekistan', 'Venezuela', 'Vietnam', 'Virgin Islands',\n",
       "       'Western Sahara', 'Yemen', 'Zambia', 'Zimbabwe', 'Åland'],\n",
       "      dtype='object', name='Country', length=243)"
      ]
     },
     "execution_count": 485,
     "metadata": {},
     "output_type": "execute_result"
    }
   ],
   "source": [
    "data.index"
   ]
  },
  {
   "cell_type": "code",
   "execution_count": 486,
   "id": "d68ff728",
   "metadata": {},
   "outputs": [],
   "source": [
    "mean_temp=data[\"AverageTemperature\"]\n",
    "\n",
    "countries=data.index\n",
    "\n"
   ]
  },
  {
   "cell_type": "code",
   "execution_count": 487,
   "id": "71dbff43",
   "metadata": {},
   "outputs": [
    {
     "data": {
      "text/plain": [
       "\"\\nmean_temp_bar, countries_bar = (list(x) for x in zip(*sorted(zip(mean_temp, countries), \\n                                                             reverse = True)))\\nsns.set(font_scale=0.9) \\nf, ax = plt.subplots(figsize=(4.5, 50))\\ncolors_cw = sns.color_palette('coolwarm', len(countries))\\nsns.barplot(mean_temp_bar, countries_bar, palette = colors_cw[::-1])\\nText = ax.set(xlabel='Average temperature', title='Average land temperature in countries')\\n\\n\""
      ]
     },
     "execution_count": 487,
     "metadata": {},
     "output_type": "execute_result"
    }
   ],
   "source": [
    "'''\n",
    "mean_temp_bar, countries_bar = (list(x) for x in zip(*sorted(zip(mean_temp, countries), \n",
    "                                                             reverse = True)))\n",
    "sns.set(font_scale=0.9) \n",
    "f, ax = plt.subplots(figsize=(4.5, 50))\n",
    "colors_cw = sns.color_palette('coolwarm', len(countries))\n",
    "sns.barplot(mean_temp_bar, countries_bar, palette = colors_cw[::-1])\n",
    "Text = ax.set(xlabel='Average temperature', title='Average land temperature in countries')\n",
    "\n",
    "'''\n"
   ]
  },
  {
   "cell_type": "markdown",
   "id": "e1d8f74f",
   "metadata": {},
   "source": [
    "# Data Frame"
   ]
  },
  {
   "cell_type": "code",
   "execution_count": 488,
   "id": "75981249",
   "metadata": {},
   "outputs": [],
   "source": [
    "data.head(2)\n",
    "data_temp_avg=data.reset_index()"
   ]
  },
  {
   "cell_type": "code",
   "execution_count": 489,
   "id": "5e82439b",
   "metadata": {},
   "outputs": [
    {
     "data": {
      "text/html": [
       "<div>\n",
       "<style scoped>\n",
       "    .dataframe tbody tr th:only-of-type {\n",
       "        vertical-align: middle;\n",
       "    }\n",
       "\n",
       "    .dataframe tbody tr th {\n",
       "        vertical-align: top;\n",
       "    }\n",
       "\n",
       "    .dataframe thead th {\n",
       "        text-align: right;\n",
       "    }\n",
       "</style>\n",
       "<table border=\"1\" class=\"dataframe\">\n",
       "  <thead>\n",
       "    <tr style=\"text-align: right;\">\n",
       "      <th></th>\n",
       "      <th>Country</th>\n",
       "      <th>AverageTemperature</th>\n",
       "      <th>AverageTemperatureUncertainty</th>\n",
       "    </tr>\n",
       "  </thead>\n",
       "  <tbody>\n",
       "    <tr>\n",
       "      <th>0</th>\n",
       "      <td>Afghanistan</td>\n",
       "      <td>14.045007</td>\n",
       "      <td>0.930162</td>\n",
       "    </tr>\n",
       "    <tr>\n",
       "      <th>1</th>\n",
       "      <td>Africa</td>\n",
       "      <td>24.074203</td>\n",
       "      <td>0.395564</td>\n",
       "    </tr>\n",
       "    <tr>\n",
       "      <th>2</th>\n",
       "      <td>Albania</td>\n",
       "      <td>12.610646</td>\n",
       "      <td>1.524574</td>\n",
       "    </tr>\n",
       "  </tbody>\n",
       "</table>\n",
       "</div>"
      ],
      "text/plain": [
       "       Country  AverageTemperature  AverageTemperatureUncertainty\n",
       "0  Afghanistan           14.045007                       0.930162\n",
       "1       Africa           24.074203                       0.395564\n",
       "2      Albania           12.610646                       1.524574"
      ]
     },
     "execution_count": 489,
     "metadata": {},
     "output_type": "execute_result"
    }
   ],
   "source": [
    "data_temp_avg.head(3)"
   ]
  },
  {
   "cell_type": "code",
   "execution_count": 490,
   "id": "96551cd1",
   "metadata": {},
   "outputs": [
    {
     "data": {
      "text/html": [
       "<div>\n",
       "<style scoped>\n",
       "    .dataframe tbody tr th:only-of-type {\n",
       "        vertical-align: middle;\n",
       "    }\n",
       "\n",
       "    .dataframe tbody tr th {\n",
       "        vertical-align: top;\n",
       "    }\n",
       "\n",
       "    .dataframe thead th {\n",
       "        text-align: right;\n",
       "    }\n",
       "</style>\n",
       "<table border=\"1\" class=\"dataframe\">\n",
       "  <thead>\n",
       "    <tr style=\"text-align: right;\">\n",
       "      <th></th>\n",
       "      <th>AverageTemperature</th>\n",
       "    </tr>\n",
       "    <tr>\n",
       "      <th>dt</th>\n",
       "      <th></th>\n",
       "    </tr>\n",
       "  </thead>\n",
       "  <tbody>\n",
       "    <tr>\n",
       "      <th>1743</th>\n",
       "      <td>5.184140</td>\n",
       "    </tr>\n",
       "    <tr>\n",
       "      <th>1744</th>\n",
       "      <td>9.837898</td>\n",
       "    </tr>\n",
       "    <tr>\n",
       "      <th>1745</th>\n",
       "      <td>1.387125</td>\n",
       "    </tr>\n",
       "    <tr>\n",
       "      <th>1750</th>\n",
       "      <td>9.129353</td>\n",
       "    </tr>\n",
       "  </tbody>\n",
       "</table>\n",
       "</div>"
      ],
      "text/plain": [
       "      AverageTemperature\n",
       "dt                      \n",
       "1743            5.184140\n",
       "1744            9.837898\n",
       "1745            1.387125\n",
       "1750            9.129353"
      ]
     },
     "execution_count": 490,
     "metadata": {},
     "output_type": "execute_result"
    }
   ],
   "source": [
    "avg_year_group.head(4)"
   ]
  },
  {
   "cell_type": "code",
   "execution_count": 491,
   "id": "d2beef23",
   "metadata": {},
   "outputs": [
    {
     "data": {
      "text/html": [
       "<div>\n",
       "<style scoped>\n",
       "    .dataframe tbody tr th:only-of-type {\n",
       "        vertical-align: middle;\n",
       "    }\n",
       "\n",
       "    .dataframe tbody tr th {\n",
       "        vertical-align: top;\n",
       "    }\n",
       "\n",
       "    .dataframe thead th {\n",
       "        text-align: right;\n",
       "    }\n",
       "</style>\n",
       "<table border=\"1\" class=\"dataframe\">\n",
       "  <thead>\n",
       "    <tr style=\"text-align: right;\">\n",
       "      <th></th>\n",
       "      <th>AverageTemperature</th>\n",
       "    </tr>\n",
       "    <tr>\n",
       "      <th>dt</th>\n",
       "      <th></th>\n",
       "    </tr>\n",
       "  </thead>\n",
       "  <tbody>\n",
       "    <tr>\n",
       "      <th>1743</th>\n",
       "      <td>5.184140</td>\n",
       "    </tr>\n",
       "    <tr>\n",
       "      <th>1744</th>\n",
       "      <td>9.837898</td>\n",
       "    </tr>\n",
       "    <tr>\n",
       "      <th>1745</th>\n",
       "      <td>1.387125</td>\n",
       "    </tr>\n",
       "    <tr>\n",
       "      <th>1750</th>\n",
       "      <td>9.129353</td>\n",
       "    </tr>\n",
       "    <tr>\n",
       "      <th>1751</th>\n",
       "      <td>9.167388</td>\n",
       "    </tr>\n",
       "    <tr>\n",
       "      <th>...</th>\n",
       "      <td>...</td>\n",
       "    </tr>\n",
       "    <tr>\n",
       "      <th>2009</th>\n",
       "      <td>19.546385</td>\n",
       "    </tr>\n",
       "    <tr>\n",
       "      <th>2010</th>\n",
       "      <td>19.629806</td>\n",
       "    </tr>\n",
       "    <tr>\n",
       "      <th>2011</th>\n",
       "      <td>19.456040</td>\n",
       "    </tr>\n",
       "    <tr>\n",
       "      <th>2012</th>\n",
       "      <td>19.468744</td>\n",
       "    </tr>\n",
       "    <tr>\n",
       "      <th>2013</th>\n",
       "      <td>19.877007</td>\n",
       "    </tr>\n",
       "  </tbody>\n",
       "</table>\n",
       "<p>267 rows × 1 columns</p>\n",
       "</div>"
      ],
      "text/plain": [
       "      AverageTemperature\n",
       "dt                      \n",
       "1743            5.184140\n",
       "1744            9.837898\n",
       "1745            1.387125\n",
       "1750            9.129353\n",
       "1751            9.167388\n",
       "...                  ...\n",
       "2009           19.546385\n",
       "2010           19.629806\n",
       "2011           19.456040\n",
       "2012           19.468744\n",
       "2013           19.877007\n",
       "\n",
       "[267 rows x 1 columns]"
      ]
     },
     "execution_count": 491,
     "metadata": {},
     "output_type": "execute_result"
    }
   ],
   "source": [
    "avg_year_group"
   ]
  },
  {
   "cell_type": "markdown",
   "id": "7e59c242",
   "metadata": {},
   "source": [
    "# Density Plot"
   ]
  },
  {
   "cell_type": "code",
   "execution_count": 492,
   "id": "6b841002",
   "metadata": {},
   "outputs": [],
   "source": [
    "#avg_year_group.plot(kind='kde')"
   ]
  },
  {
   "cell_type": "markdown",
   "id": "d434a4af",
   "metadata": {},
   "source": [
    "# Problem Statement -2\n",
    "Building a multivariate deep learning-based time series model to forecast the U.S. Average\n",
    "temperature"
   ]
  },
  {
   "cell_type": "code",
   "execution_count": 493,
   "id": "923ea98e",
   "metadata": {},
   "outputs": [
    {
     "name": "stdout",
     "output_type": "stream",
     "text": [
      " Volume in drive C is ssd\n",
      " Volume Serial Number is 344C-651C\n",
      "\n",
      " Directory of C:\\Users\\phoneclicker\\Downloads\\excelr_kd\\project on aggriculture\n",
      "\n",
      "02/16/2023  04:27 PM    <DIR>          .\n",
      "02/16/2023  04:27 PM    <DIR>          ..\n",
      "01/19/2023  09:37 AM    <DIR>          .ipynb_checkpoints\n",
      "01/17/2023  03:57 PM            50,208 a4039245-21ac-4e87-b3be-45a2e1803744.pdf\n",
      "02/16/2023  04:27 PM           134,237 Analyzing Climate Change.ipynb\n",
      "01/17/2023  12:07 PM           374,263 Analyzing Climate Change.pdf\n",
      "02/16/2023  04:32 PM        27,562,776 Final_for.sav\n",
      "02/16/2023  04:23 PM               895 forecast_kd.py\n",
      "01/19/2023  09:34 AM       532,830,464 GlobalLandTemperaturesByCity.csv\n",
      "01/19/2023  09:34 AM        22,680,393 GlobalLandTemperaturesByCountry.csv\n",
      "01/19/2023  09:34 AM        14,138,385 GlobalLandTemperaturesByMajorCity.csv\n",
      "01/19/2023  09:34 AM        30,770,160 GlobalLandTemperaturesByState.csv\n",
      "01/18/2023  12:54 PM           205,875 GlobalTemperatures.csv\n",
      "              10 File(s)    628,747,656 bytes\n",
      "               3 Dir(s)  49,059,287,040 bytes free\n"
     ]
    }
   ],
   "source": [
    "ls"
   ]
  },
  {
   "cell_type": "code",
   "execution_count": 494,
   "id": "ee5fbc1d",
   "metadata": {},
   "outputs": [],
   "source": [
    "main_data2=pd.read_csv(\"GlobalLandTemperaturesByCountry.csv\")"
   ]
  },
  {
   "cell_type": "code",
   "execution_count": 495,
   "id": "cc4572ff",
   "metadata": {},
   "outputs": [
    {
     "data": {
      "text/html": [
       "<div>\n",
       "<style scoped>\n",
       "    .dataframe tbody tr th:only-of-type {\n",
       "        vertical-align: middle;\n",
       "    }\n",
       "\n",
       "    .dataframe tbody tr th {\n",
       "        vertical-align: top;\n",
       "    }\n",
       "\n",
       "    .dataframe thead th {\n",
       "        text-align: right;\n",
       "    }\n",
       "</style>\n",
       "<table border=\"1\" class=\"dataframe\">\n",
       "  <thead>\n",
       "    <tr style=\"text-align: right;\">\n",
       "      <th></th>\n",
       "      <th>dt</th>\n",
       "      <th>AverageTemperature</th>\n",
       "      <th>AverageTemperatureUncertainty</th>\n",
       "      <th>Country</th>\n",
       "    </tr>\n",
       "  </thead>\n",
       "  <tbody>\n",
       "    <tr>\n",
       "      <th>0</th>\n",
       "      <td>1743-11-01</td>\n",
       "      <td>4.384</td>\n",
       "      <td>2.294</td>\n",
       "      <td>Åland</td>\n",
       "    </tr>\n",
       "    <tr>\n",
       "      <th>1</th>\n",
       "      <td>1743-12-01</td>\n",
       "      <td>NaN</td>\n",
       "      <td>NaN</td>\n",
       "      <td>Åland</td>\n",
       "    </tr>\n",
       "  </tbody>\n",
       "</table>\n",
       "</div>"
      ],
      "text/plain": [
       "           dt  AverageTemperature  AverageTemperatureUncertainty Country\n",
       "0  1743-11-01               4.384                          2.294   Åland\n",
       "1  1743-12-01                 NaN                            NaN   Åland"
      ]
     },
     "execution_count": 495,
     "metadata": {},
     "output_type": "execute_result"
    }
   ],
   "source": [
    "main_data2.head(2)"
   ]
  },
  {
   "cell_type": "code",
   "execution_count": 496,
   "id": "abb1f82c",
   "metadata": {},
   "outputs": [],
   "source": [
    "usa1=main_data2[main_data2['Country']=='United States']\n"
   ]
  },
  {
   "cell_type": "code",
   "execution_count": 497,
   "id": "31d9432f",
   "metadata": {},
   "outputs": [
    {
     "data": {
      "text/plain": [
       "(2941, 4)"
      ]
     },
     "execution_count": 497,
     "metadata": {},
     "output_type": "execute_result"
    }
   ],
   "source": [
    "usa1.shape"
   ]
  },
  {
   "cell_type": "code",
   "execution_count": 498,
   "id": "9998efa5",
   "metadata": {},
   "outputs": [],
   "source": [
    "usa2=usa1.drop(\"AverageTemperatureUncertainty\",axis=1)"
   ]
  },
  {
   "cell_type": "code",
   "execution_count": 499,
   "id": "8eee4d8b",
   "metadata": {},
   "outputs": [],
   "source": [
    "usa2=usa2.dropna()"
   ]
  },
  {
   "cell_type": "code",
   "execution_count": 500,
   "id": "f73807b4",
   "metadata": {},
   "outputs": [
    {
     "data": {
      "text/plain": [
       "(2482, 3)"
      ]
     },
     "execution_count": 500,
     "metadata": {},
     "output_type": "execute_result"
    }
   ],
   "source": [
    "usa2.shape"
   ]
  },
  {
   "cell_type": "code",
   "execution_count": 501,
   "id": "c032bcad",
   "metadata": {},
   "outputs": [
    {
     "data": {
      "text/html": [
       "<div>\n",
       "<style scoped>\n",
       "    .dataframe tbody tr th:only-of-type {\n",
       "        vertical-align: middle;\n",
       "    }\n",
       "\n",
       "    .dataframe tbody tr th {\n",
       "        vertical-align: top;\n",
       "    }\n",
       "\n",
       "    .dataframe thead th {\n",
       "        text-align: right;\n",
       "    }\n",
       "</style>\n",
       "<table border=\"1\" class=\"dataframe\">\n",
       "  <thead>\n",
       "    <tr style=\"text-align: right;\">\n",
       "      <th></th>\n",
       "      <th>dt</th>\n",
       "      <th>AverageTemperature</th>\n",
       "      <th>Country</th>\n",
       "    </tr>\n",
       "  </thead>\n",
       "  <tbody>\n",
       "    <tr>\n",
       "      <th>554880</th>\n",
       "      <td>1768-09-01</td>\n",
       "      <td>15.420</td>\n",
       "      <td>United States</td>\n",
       "    </tr>\n",
       "    <tr>\n",
       "      <th>554881</th>\n",
       "      <td>1768-10-01</td>\n",
       "      <td>8.162</td>\n",
       "      <td>United States</td>\n",
       "    </tr>\n",
       "    <tr>\n",
       "      <th>554882</th>\n",
       "      <td>1768-11-01</td>\n",
       "      <td>1.591</td>\n",
       "      <td>United States</td>\n",
       "    </tr>\n",
       "  </tbody>\n",
       "</table>\n",
       "</div>"
      ],
      "text/plain": [
       "                dt  AverageTemperature        Country\n",
       "554880  1768-09-01              15.420  United States\n",
       "554881  1768-10-01               8.162  United States\n",
       "554882  1768-11-01               1.591  United States"
      ]
     },
     "execution_count": 501,
     "metadata": {},
     "output_type": "execute_result"
    }
   ],
   "source": [
    "usa2.head(3)"
   ]
  },
  {
   "cell_type": "code",
   "execution_count": 502,
   "id": "0755cf7f",
   "metadata": {},
   "outputs": [],
   "source": [
    "usa3=usa2.drop(\"Country\",axis=1)"
   ]
  },
  {
   "cell_type": "code",
   "execution_count": 503,
   "id": "da1f379d",
   "metadata": {},
   "outputs": [
    {
     "data": {
      "text/html": [
       "<div>\n",
       "<style scoped>\n",
       "    .dataframe tbody tr th:only-of-type {\n",
       "        vertical-align: middle;\n",
       "    }\n",
       "\n",
       "    .dataframe tbody tr th {\n",
       "        vertical-align: top;\n",
       "    }\n",
       "\n",
       "    .dataframe thead th {\n",
       "        text-align: right;\n",
       "    }\n",
       "</style>\n",
       "<table border=\"1\" class=\"dataframe\">\n",
       "  <thead>\n",
       "    <tr style=\"text-align: right;\">\n",
       "      <th></th>\n",
       "      <th>dt</th>\n",
       "      <th>AverageTemperature</th>\n",
       "    </tr>\n",
       "  </thead>\n",
       "  <tbody>\n",
       "    <tr>\n",
       "      <th>554880</th>\n",
       "      <td>1768-09-01</td>\n",
       "      <td>15.420</td>\n",
       "    </tr>\n",
       "    <tr>\n",
       "      <th>554881</th>\n",
       "      <td>1768-10-01</td>\n",
       "      <td>8.162</td>\n",
       "    </tr>\n",
       "  </tbody>\n",
       "</table>\n",
       "</div>"
      ],
      "text/plain": [
       "                dt  AverageTemperature\n",
       "554880  1768-09-01              15.420\n",
       "554881  1768-10-01               8.162"
      ]
     },
     "execution_count": 503,
     "metadata": {},
     "output_type": "execute_result"
    }
   ],
   "source": [
    "usa3.head(2)"
   ]
  },
  {
   "cell_type": "code",
   "execution_count": 504,
   "id": "b9acb996",
   "metadata": {},
   "outputs": [],
   "source": [
    "usa4=usa3.set_index(\"dt\")"
   ]
  },
  {
   "cell_type": "code",
   "execution_count": 505,
   "id": "edfe3602",
   "metadata": {},
   "outputs": [
    {
     "data": {
      "text/html": [
       "<div>\n",
       "<style scoped>\n",
       "    .dataframe tbody tr th:only-of-type {\n",
       "        vertical-align: middle;\n",
       "    }\n",
       "\n",
       "    .dataframe tbody tr th {\n",
       "        vertical-align: top;\n",
       "    }\n",
       "\n",
       "    .dataframe thead th {\n",
       "        text-align: right;\n",
       "    }\n",
       "</style>\n",
       "<table border=\"1\" class=\"dataframe\">\n",
       "  <thead>\n",
       "    <tr style=\"text-align: right;\">\n",
       "      <th></th>\n",
       "      <th>AverageTemperature</th>\n",
       "    </tr>\n",
       "    <tr>\n",
       "      <th>dt</th>\n",
       "      <th></th>\n",
       "    </tr>\n",
       "  </thead>\n",
       "  <tbody>\n",
       "    <tr>\n",
       "      <th>1768-09-01</th>\n",
       "      <td>15.420</td>\n",
       "    </tr>\n",
       "    <tr>\n",
       "      <th>1768-10-01</th>\n",
       "      <td>8.162</td>\n",
       "    </tr>\n",
       "    <tr>\n",
       "      <th>1768-11-01</th>\n",
       "      <td>1.591</td>\n",
       "    </tr>\n",
       "  </tbody>\n",
       "</table>\n",
       "</div>"
      ],
      "text/plain": [
       "            AverageTemperature\n",
       "dt                            \n",
       "1768-09-01              15.420\n",
       "1768-10-01               8.162\n",
       "1768-11-01               1.591"
      ]
     },
     "execution_count": 505,
     "metadata": {},
     "output_type": "execute_result"
    }
   ],
   "source": [
    "usa4.head(3)"
   ]
  },
  {
   "cell_type": "code",
   "execution_count": 506,
   "id": "f6ab6207",
   "metadata": {},
   "outputs": [],
   "source": [
    "#sns.lineplot(x=usa4.index,y=usa4['AverageTemperature'])"
   ]
  },
  {
   "cell_type": "code",
   "execution_count": 507,
   "id": "2b9d2ef1",
   "metadata": {},
   "outputs": [],
   "source": [
    "from statsmodels.tsa.stattools import adfuller"
   ]
  },
  {
   "cell_type": "code",
   "execution_count": 508,
   "id": "317454bd",
   "metadata": {},
   "outputs": [],
   "source": [
    "test_result=adfuller(usa4['AverageTemperature'])"
   ]
  },
  {
   "cell_type": "code",
   "execution_count": 509,
   "id": "9700df5a",
   "metadata": {},
   "outputs": [],
   "source": [
    "def adfuller_test(AverageTemperature):\n",
    "    result=adfuller(AverageTemperature)\n",
    "    labels = ['ADF Test Statistic','p-value','#Lags Used','Number of Observations Used']\n",
    "    for value,label in zip(result,labels):\n",
    "        print(label+' : '+str(value) )\n",
    "    if result[1] <= 0.05:\n",
    "        print(\"strong evidence against the null hypothesis(Ho), reject the null hypothesis. Data has no unit root and is stationary\")\n",
    "    else:\n",
    "        print(\"weak evidence against null hypothesis, time series has a unit root, indicating it is non-stationary \")\n",
    "    "
   ]
  },
  {
   "cell_type": "code",
   "execution_count": 510,
   "id": "e342ebc7",
   "metadata": {},
   "outputs": [
    {
     "name": "stdout",
     "output_type": "stream",
     "text": [
      "ADF Test Statistic : -5.2772426021791015\n",
      "p-value : 6.102382844119769e-06\n",
      "#Lags Used : 27\n",
      "Number of Observations Used : 2454\n",
      "strong evidence against the null hypothesis(Ho), reject the null hypothesis. Data has no unit root and is stationary\n"
     ]
    }
   ],
   "source": [
    "adfuller_test(usa4['AverageTemperature'])"
   ]
  },
  {
   "cell_type": "code",
   "execution_count": 511,
   "id": "9171105e",
   "metadata": {},
   "outputs": [],
   "source": [
    "#usa4[['AverageTemperature']].plot(figsize=(30,15))"
   ]
  },
  {
   "cell_type": "code",
   "execution_count": 512,
   "id": "92485e5d",
   "metadata": {},
   "outputs": [],
   "source": [
    "usa5=usa4.reset_index()"
   ]
  },
  {
   "cell_type": "code",
   "execution_count": 513,
   "id": "529b3de3",
   "metadata": {},
   "outputs": [],
   "source": [
    "month=pd.to_datetime(usa5[\"dt\"]).dt.month\n",
    "year=pd.to_datetime(usa5[\"dt\"]).dt.year\n"
   ]
  },
  {
   "cell_type": "code",
   "execution_count": 514,
   "id": "6d3d0920",
   "metadata": {},
   "outputs": [
    {
     "data": {
      "text/html": [
       "<div>\n",
       "<style scoped>\n",
       "    .dataframe tbody tr th:only-of-type {\n",
       "        vertical-align: middle;\n",
       "    }\n",
       "\n",
       "    .dataframe tbody tr th {\n",
       "        vertical-align: top;\n",
       "    }\n",
       "\n",
       "    .dataframe thead th {\n",
       "        text-align: right;\n",
       "    }\n",
       "</style>\n",
       "<table border=\"1\" class=\"dataframe\">\n",
       "  <thead>\n",
       "    <tr style=\"text-align: right;\">\n",
       "      <th></th>\n",
       "      <th>dt</th>\n",
       "      <th>AverageTemperature</th>\n",
       "    </tr>\n",
       "  </thead>\n",
       "  <tbody>\n",
       "    <tr>\n",
       "      <th>0</th>\n",
       "      <td>1768-09-01</td>\n",
       "      <td>15.420</td>\n",
       "    </tr>\n",
       "    <tr>\n",
       "      <th>1</th>\n",
       "      <td>1768-10-01</td>\n",
       "      <td>8.162</td>\n",
       "    </tr>\n",
       "    <tr>\n",
       "      <th>2</th>\n",
       "      <td>1768-11-01</td>\n",
       "      <td>1.591</td>\n",
       "    </tr>\n",
       "    <tr>\n",
       "      <th>3</th>\n",
       "      <td>1768-12-01</td>\n",
       "      <td>-2.882</td>\n",
       "    </tr>\n",
       "    <tr>\n",
       "      <th>4</th>\n",
       "      <td>1769-01-01</td>\n",
       "      <td>-3.952</td>\n",
       "    </tr>\n",
       "    <tr>\n",
       "      <th>...</th>\n",
       "      <td>...</td>\n",
       "      <td>...</td>\n",
       "    </tr>\n",
       "    <tr>\n",
       "      <th>2477</th>\n",
       "      <td>2013-05-01</td>\n",
       "      <td>14.073</td>\n",
       "    </tr>\n",
       "    <tr>\n",
       "      <th>2478</th>\n",
       "      <td>2013-06-01</td>\n",
       "      <td>20.198</td>\n",
       "    </tr>\n",
       "    <tr>\n",
       "      <th>2479</th>\n",
       "      <td>2013-07-01</td>\n",
       "      <td>22.074</td>\n",
       "    </tr>\n",
       "    <tr>\n",
       "      <th>2480</th>\n",
       "      <td>2013-08-01</td>\n",
       "      <td>21.168</td>\n",
       "    </tr>\n",
       "    <tr>\n",
       "      <th>2481</th>\n",
       "      <td>2013-09-01</td>\n",
       "      <td>18.273</td>\n",
       "    </tr>\n",
       "  </tbody>\n",
       "</table>\n",
       "<p>2482 rows × 2 columns</p>\n",
       "</div>"
      ],
      "text/plain": [
       "              dt  AverageTemperature\n",
       "0     1768-09-01              15.420\n",
       "1     1768-10-01               8.162\n",
       "2     1768-11-01               1.591\n",
       "3     1768-12-01              -2.882\n",
       "4     1769-01-01              -3.952\n",
       "...          ...                 ...\n",
       "2477  2013-05-01              14.073\n",
       "2478  2013-06-01              20.198\n",
       "2479  2013-07-01              22.074\n",
       "2480  2013-08-01              21.168\n",
       "2481  2013-09-01              18.273\n",
       "\n",
       "[2482 rows x 2 columns]"
      ]
     },
     "execution_count": 514,
     "metadata": {},
     "output_type": "execute_result"
    }
   ],
   "source": [
    "usa5"
   ]
  },
  {
   "cell_type": "code",
   "execution_count": 515,
   "id": "4fd4260b",
   "metadata": {},
   "outputs": [
    {
     "data": {
      "text/html": [
       "<div>\n",
       "<style scoped>\n",
       "    .dataframe tbody tr th:only-of-type {\n",
       "        vertical-align: middle;\n",
       "    }\n",
       "\n",
       "    .dataframe tbody tr th {\n",
       "        vertical-align: top;\n",
       "    }\n",
       "\n",
       "    .dataframe thead th {\n",
       "        text-align: right;\n",
       "    }\n",
       "</style>\n",
       "<table border=\"1\" class=\"dataframe\">\n",
       "  <thead>\n",
       "    <tr style=\"text-align: right;\">\n",
       "      <th></th>\n",
       "      <th>dt</th>\n",
       "      <th>AverageTemperature</th>\n",
       "      <th>month</th>\n",
       "      <th>year</th>\n",
       "    </tr>\n",
       "  </thead>\n",
       "  <tbody>\n",
       "    <tr>\n",
       "      <th>0</th>\n",
       "      <td>1768-09-01</td>\n",
       "      <td>15.420</td>\n",
       "      <td>9</td>\n",
       "      <td>1768</td>\n",
       "    </tr>\n",
       "    <tr>\n",
       "      <th>1</th>\n",
       "      <td>1768-10-01</td>\n",
       "      <td>8.162</td>\n",
       "      <td>10</td>\n",
       "      <td>1768</td>\n",
       "    </tr>\n",
       "    <tr>\n",
       "      <th>2</th>\n",
       "      <td>1768-11-01</td>\n",
       "      <td>1.591</td>\n",
       "      <td>11</td>\n",
       "      <td>1768</td>\n",
       "    </tr>\n",
       "    <tr>\n",
       "      <th>3</th>\n",
       "      <td>1768-12-01</td>\n",
       "      <td>-2.882</td>\n",
       "      <td>12</td>\n",
       "      <td>1768</td>\n",
       "    </tr>\n",
       "    <tr>\n",
       "      <th>4</th>\n",
       "      <td>1769-01-01</td>\n",
       "      <td>-3.952</td>\n",
       "      <td>1</td>\n",
       "      <td>1769</td>\n",
       "    </tr>\n",
       "    <tr>\n",
       "      <th>...</th>\n",
       "      <td>...</td>\n",
       "      <td>...</td>\n",
       "      <td>...</td>\n",
       "      <td>...</td>\n",
       "    </tr>\n",
       "    <tr>\n",
       "      <th>2477</th>\n",
       "      <td>2013-05-01</td>\n",
       "      <td>14.073</td>\n",
       "      <td>5</td>\n",
       "      <td>2013</td>\n",
       "    </tr>\n",
       "    <tr>\n",
       "      <th>2478</th>\n",
       "      <td>2013-06-01</td>\n",
       "      <td>20.198</td>\n",
       "      <td>6</td>\n",
       "      <td>2013</td>\n",
       "    </tr>\n",
       "    <tr>\n",
       "      <th>2479</th>\n",
       "      <td>2013-07-01</td>\n",
       "      <td>22.074</td>\n",
       "      <td>7</td>\n",
       "      <td>2013</td>\n",
       "    </tr>\n",
       "    <tr>\n",
       "      <th>2480</th>\n",
       "      <td>2013-08-01</td>\n",
       "      <td>21.168</td>\n",
       "      <td>8</td>\n",
       "      <td>2013</td>\n",
       "    </tr>\n",
       "    <tr>\n",
       "      <th>2481</th>\n",
       "      <td>2013-09-01</td>\n",
       "      <td>18.273</td>\n",
       "      <td>9</td>\n",
       "      <td>2013</td>\n",
       "    </tr>\n",
       "  </tbody>\n",
       "</table>\n",
       "<p>2482 rows × 4 columns</p>\n",
       "</div>"
      ],
      "text/plain": [
       "              dt  AverageTemperature  month  year\n",
       "0     1768-09-01              15.420      9  1768\n",
       "1     1768-10-01               8.162     10  1768\n",
       "2     1768-11-01               1.591     11  1768\n",
       "3     1768-12-01              -2.882     12  1768\n",
       "4     1769-01-01              -3.952      1  1769\n",
       "...          ...                 ...    ...   ...\n",
       "2477  2013-05-01              14.073      5  2013\n",
       "2478  2013-06-01              20.198      6  2013\n",
       "2479  2013-07-01              22.074      7  2013\n",
       "2480  2013-08-01              21.168      8  2013\n",
       "2481  2013-09-01              18.273      9  2013\n",
       "\n",
       "[2482 rows x 4 columns]"
      ]
     },
     "execution_count": 515,
     "metadata": {},
     "output_type": "execute_result"
    }
   ],
   "source": [
    "usa5['month']=month\n",
    "usa5['year']=year\n",
    "usa5"
   ]
  },
  {
   "cell_type": "code",
   "execution_count": 516,
   "id": "d0d46599",
   "metadata": {},
   "outputs": [
    {
     "data": {
      "text/html": [
       "<div>\n",
       "<style scoped>\n",
       "    .dataframe tbody tr th:only-of-type {\n",
       "        vertical-align: middle;\n",
       "    }\n",
       "\n",
       "    .dataframe tbody tr th {\n",
       "        vertical-align: top;\n",
       "    }\n",
       "\n",
       "    .dataframe thead th {\n",
       "        text-align: right;\n",
       "    }\n",
       "</style>\n",
       "<table border=\"1\" class=\"dataframe\">\n",
       "  <thead>\n",
       "    <tr style=\"text-align: right;\">\n",
       "      <th>year</th>\n",
       "      <th>1768</th>\n",
       "      <th>1769</th>\n",
       "      <th>1774</th>\n",
       "      <th>1775</th>\n",
       "      <th>1776</th>\n",
       "      <th>1777</th>\n",
       "      <th>1778</th>\n",
       "      <th>1779</th>\n",
       "      <th>1781</th>\n",
       "      <th>1782</th>\n",
       "      <th>...</th>\n",
       "      <th>2004</th>\n",
       "      <th>2005</th>\n",
       "      <th>2006</th>\n",
       "      <th>2007</th>\n",
       "      <th>2008</th>\n",
       "      <th>2009</th>\n",
       "      <th>2010</th>\n",
       "      <th>2011</th>\n",
       "      <th>2012</th>\n",
       "      <th>2013</th>\n",
       "    </tr>\n",
       "    <tr>\n",
       "      <th>month</th>\n",
       "      <th></th>\n",
       "      <th></th>\n",
       "      <th></th>\n",
       "      <th></th>\n",
       "      <th></th>\n",
       "      <th></th>\n",
       "      <th></th>\n",
       "      <th></th>\n",
       "      <th></th>\n",
       "      <th></th>\n",
       "      <th></th>\n",
       "      <th></th>\n",
       "      <th></th>\n",
       "      <th></th>\n",
       "      <th></th>\n",
       "      <th></th>\n",
       "      <th></th>\n",
       "      <th></th>\n",
       "      <th></th>\n",
       "      <th></th>\n",
       "      <th></th>\n",
       "    </tr>\n",
       "  </thead>\n",
       "  <tbody>\n",
       "    <tr>\n",
       "      <th>1</th>\n",
       "      <td>NaN</td>\n",
       "      <td>-3.952</td>\n",
       "      <td>NaN</td>\n",
       "      <td>-1.551</td>\n",
       "      <td>-6.358</td>\n",
       "      <td>0.174</td>\n",
       "      <td>-3.402</td>\n",
       "      <td>-5.338</td>\n",
       "      <td>NaN</td>\n",
       "      <td>-5.980</td>\n",
       "      <td>...</td>\n",
       "      <td>-3.841</td>\n",
       "      <td>-1.884</td>\n",
       "      <td>-0.287</td>\n",
       "      <td>-2.959</td>\n",
       "      <td>-3.883</td>\n",
       "      <td>-3.569</td>\n",
       "      <td>-3.610</td>\n",
       "      <td>-3.507</td>\n",
       "      <td>-2.268</td>\n",
       "      <td>-2.155</td>\n",
       "    </tr>\n",
       "    <tr>\n",
       "      <th>2</th>\n",
       "      <td>NaN</td>\n",
       "      <td>-2.684</td>\n",
       "      <td>NaN</td>\n",
       "      <td>1.506</td>\n",
       "      <td>-0.540</td>\n",
       "      <td>-0.186</td>\n",
       "      <td>NaN</td>\n",
       "      <td>-0.293</td>\n",
       "      <td>NaN</td>\n",
       "      <td>-4.058</td>\n",
       "      <td>...</td>\n",
       "      <td>-1.427</td>\n",
       "      <td>0.408</td>\n",
       "      <td>-0.574</td>\n",
       "      <td>-2.240</td>\n",
       "      <td>-1.586</td>\n",
       "      <td>-0.310</td>\n",
       "      <td>-2.105</td>\n",
       "      <td>-1.881</td>\n",
       "      <td>0.582</td>\n",
       "      <td>-1.216</td>\n",
       "    </tr>\n",
       "    <tr>\n",
       "      <th>3</th>\n",
       "      <td>NaN</td>\n",
       "      <td>1.828</td>\n",
       "      <td>NaN</td>\n",
       "      <td>5.020</td>\n",
       "      <td>1.541</td>\n",
       "      <td>2.504</td>\n",
       "      <td>NaN</td>\n",
       "      <td>3.490</td>\n",
       "      <td>NaN</td>\n",
       "      <td>-0.121</td>\n",
       "      <td>...</td>\n",
       "      <td>5.178</td>\n",
       "      <td>3.548</td>\n",
       "      <td>2.794</td>\n",
       "      <td>4.446</td>\n",
       "      <td>2.828</td>\n",
       "      <td>2.833</td>\n",
       "      <td>3.436</td>\n",
       "      <td>3.462</td>\n",
       "      <td>6.024</td>\n",
       "      <td>2.289</td>\n",
       "    </tr>\n",
       "    <tr>\n",
       "      <th>4</th>\n",
       "      <td>NaN</td>\n",
       "      <td>8.843</td>\n",
       "      <td>NaN</td>\n",
       "      <td>7.663</td>\n",
       "      <td>7.254</td>\n",
       "      <td>5.836</td>\n",
       "      <td>NaN</td>\n",
       "      <td>NaN</td>\n",
       "      <td>NaN</td>\n",
       "      <td>8.792</td>\n",
       "      <td>...</td>\n",
       "      <td>9.388</td>\n",
       "      <td>8.797</td>\n",
       "      <td>9.850</td>\n",
       "      <td>8.476</td>\n",
       "      <td>7.902</td>\n",
       "      <td>8.172</td>\n",
       "      <td>9.550</td>\n",
       "      <td>8.582</td>\n",
       "      <td>10.196</td>\n",
       "      <td>6.970</td>\n",
       "    </tr>\n",
       "    <tr>\n",
       "      <th>5</th>\n",
       "      <td>NaN</td>\n",
       "      <td>15.724</td>\n",
       "      <td>NaN</td>\n",
       "      <td>14.452</td>\n",
       "      <td>NaN</td>\n",
       "      <td>13.739</td>\n",
       "      <td>13.835</td>\n",
       "      <td>NaN</td>\n",
       "      <td>NaN</td>\n",
       "      <td>14.020</td>\n",
       "      <td>...</td>\n",
       "      <td>15.247</td>\n",
       "      <td>14.204</td>\n",
       "      <td>15.155</td>\n",
       "      <td>15.101</td>\n",
       "      <td>13.723</td>\n",
       "      <td>14.884</td>\n",
       "      <td>14.174</td>\n",
       "      <td>13.759</td>\n",
       "      <td>15.422</td>\n",
       "      <td>14.073</td>\n",
       "    </tr>\n",
       "    <tr>\n",
       "      <th>6</th>\n",
       "      <td>NaN</td>\n",
       "      <td>20.933</td>\n",
       "      <td>NaN</td>\n",
       "      <td>17.684</td>\n",
       "      <td>19.836</td>\n",
       "      <td>17.463</td>\n",
       "      <td>16.855</td>\n",
       "      <td>NaN</td>\n",
       "      <td>NaN</td>\n",
       "      <td>19.578</td>\n",
       "      <td>...</td>\n",
       "      <td>19.228</td>\n",
       "      <td>19.511</td>\n",
       "      <td>19.933</td>\n",
       "      <td>19.705</td>\n",
       "      <td>19.381</td>\n",
       "      <td>18.962</td>\n",
       "      <td>19.885</td>\n",
       "      <td>19.578</td>\n",
       "      <td>19.954</td>\n",
       "      <td>20.198</td>\n",
       "    </tr>\n",
       "    <tr>\n",
       "      <th>7</th>\n",
       "      <td>NaN</td>\n",
       "      <td>22.093</td>\n",
       "      <td>NaN</td>\n",
       "      <td>21.601</td>\n",
       "      <td>20.940</td>\n",
       "      <td>19.176</td>\n",
       "      <td>NaN</td>\n",
       "      <td>NaN</td>\n",
       "      <td>NaN</td>\n",
       "      <td>21.014</td>\n",
       "      <td>...</td>\n",
       "      <td>21.663</td>\n",
       "      <td>22.478</td>\n",
       "      <td>22.911</td>\n",
       "      <td>22.352</td>\n",
       "      <td>21.690</td>\n",
       "      <td>21.463</td>\n",
       "      <td>22.078</td>\n",
       "      <td>22.722</td>\n",
       "      <td>23.008</td>\n",
       "      <td>22.074</td>\n",
       "    </tr>\n",
       "    <tr>\n",
       "      <th>8</th>\n",
       "      <td>NaN</td>\n",
       "      <td>20.787</td>\n",
       "      <td>NaN</td>\n",
       "      <td>20.844</td>\n",
       "      <td>21.476</td>\n",
       "      <td>19.398</td>\n",
       "      <td>NaN</td>\n",
       "      <td>NaN</td>\n",
       "      <td>NaN</td>\n",
       "      <td>NaN</td>\n",
       "      <td>...</td>\n",
       "      <td>20.175</td>\n",
       "      <td>21.353</td>\n",
       "      <td>21.079</td>\n",
       "      <td>22.118</td>\n",
       "      <td>20.543</td>\n",
       "      <td>20.436</td>\n",
       "      <td>21.703</td>\n",
       "      <td>21.915</td>\n",
       "      <td>21.422</td>\n",
       "      <td>21.168</td>\n",
       "    </tr>\n",
       "    <tr>\n",
       "      <th>9</th>\n",
       "      <td>15.420</td>\n",
       "      <td>NaN</td>\n",
       "      <td>NaN</td>\n",
       "      <td>15.081</td>\n",
       "      <td>14.999</td>\n",
       "      <td>15.270</td>\n",
       "      <td>NaN</td>\n",
       "      <td>NaN</td>\n",
       "      <td>14.316</td>\n",
       "      <td>NaN</td>\n",
       "      <td>...</td>\n",
       "      <td>16.468</td>\n",
       "      <td>17.730</td>\n",
       "      <td>15.992</td>\n",
       "      <td>17.365</td>\n",
       "      <td>16.567</td>\n",
       "      <td>17.167</td>\n",
       "      <td>17.384</td>\n",
       "      <td>17.148</td>\n",
       "      <td>17.036</td>\n",
       "      <td>18.273</td>\n",
       "    </tr>\n",
       "    <tr>\n",
       "      <th>10</th>\n",
       "      <td>8.162</td>\n",
       "      <td>NaN</td>\n",
       "      <td>9.244</td>\n",
       "      <td>10.256</td>\n",
       "      <td>8.351</td>\n",
       "      <td>7.042</td>\n",
       "      <td>8.203</td>\n",
       "      <td>NaN</td>\n",
       "      <td>9.031</td>\n",
       "      <td>NaN</td>\n",
       "      <td>...</td>\n",
       "      <td>10.670</td>\n",
       "      <td>10.489</td>\n",
       "      <td>9.608</td>\n",
       "      <td>10.932</td>\n",
       "      <td>9.164</td>\n",
       "      <td>8.534</td>\n",
       "      <td>10.913</td>\n",
       "      <td>10.490</td>\n",
       "      <td>9.688</td>\n",
       "      <td>NaN</td>\n",
       "    </tr>\n",
       "    <tr>\n",
       "      <th>11</th>\n",
       "      <td>1.591</td>\n",
       "      <td>NaN</td>\n",
       "      <td>0.522</td>\n",
       "      <td>5.371</td>\n",
       "      <td>2.703</td>\n",
       "      <td>1.882</td>\n",
       "      <td>0.630</td>\n",
       "      <td>NaN</td>\n",
       "      <td>3.832</td>\n",
       "      <td>NaN</td>\n",
       "      <td>...</td>\n",
       "      <td>4.191</td>\n",
       "      <td>3.650</td>\n",
       "      <td>3.400</td>\n",
       "      <td>4.502</td>\n",
       "      <td>3.620</td>\n",
       "      <td>4.251</td>\n",
       "      <td>3.601</td>\n",
       "      <td>2.966</td>\n",
       "      <td>3.330</td>\n",
       "      <td>NaN</td>\n",
       "    </tr>\n",
       "    <tr>\n",
       "      <th>12</th>\n",
       "      <td>-2.882</td>\n",
       "      <td>NaN</td>\n",
       "      <td>-4.957</td>\n",
       "      <td>-3.937</td>\n",
       "      <td>-0.992</td>\n",
       "      <td>-2.641</td>\n",
       "      <td>-3.949</td>\n",
       "      <td>NaN</td>\n",
       "      <td>-2.166</td>\n",
       "      <td>NaN</td>\n",
       "      <td>...</td>\n",
       "      <td>-0.930</td>\n",
       "      <td>-1.572</td>\n",
       "      <td>-0.167</td>\n",
       "      <td>-1.748</td>\n",
       "      <td>-2.532</td>\n",
       "      <td>-3.178</td>\n",
       "      <td>-2.942</td>\n",
       "      <td>-0.635</td>\n",
       "      <td>-1.261</td>\n",
       "      <td>NaN</td>\n",
       "    </tr>\n",
       "  </tbody>\n",
       "</table>\n",
       "<p>12 rows × 215 columns</p>\n",
       "</div>"
      ],
      "text/plain": [
       "year     1768    1769   1774    1775    1776    1777    1778   1779    1781  \\\n",
       "month                                                                         \n",
       "1         NaN  -3.952    NaN  -1.551  -6.358   0.174  -3.402 -5.338     NaN   \n",
       "2         NaN  -2.684    NaN   1.506  -0.540  -0.186     NaN -0.293     NaN   \n",
       "3         NaN   1.828    NaN   5.020   1.541   2.504     NaN  3.490     NaN   \n",
       "4         NaN   8.843    NaN   7.663   7.254   5.836     NaN    NaN     NaN   \n",
       "5         NaN  15.724    NaN  14.452     NaN  13.739  13.835    NaN     NaN   \n",
       "6         NaN  20.933    NaN  17.684  19.836  17.463  16.855    NaN     NaN   \n",
       "7         NaN  22.093    NaN  21.601  20.940  19.176     NaN    NaN     NaN   \n",
       "8         NaN  20.787    NaN  20.844  21.476  19.398     NaN    NaN     NaN   \n",
       "9      15.420     NaN    NaN  15.081  14.999  15.270     NaN    NaN  14.316   \n",
       "10      8.162     NaN  9.244  10.256   8.351   7.042   8.203    NaN   9.031   \n",
       "11      1.591     NaN  0.522   5.371   2.703   1.882   0.630    NaN   3.832   \n",
       "12     -2.882     NaN -4.957  -3.937  -0.992  -2.641  -3.949    NaN  -2.166   \n",
       "\n",
       "year     1782  ...    2004    2005    2006    2007    2008    2009    2010  \\\n",
       "month          ...                                                           \n",
       "1      -5.980  ...  -3.841  -1.884  -0.287  -2.959  -3.883  -3.569  -3.610   \n",
       "2      -4.058  ...  -1.427   0.408  -0.574  -2.240  -1.586  -0.310  -2.105   \n",
       "3      -0.121  ...   5.178   3.548   2.794   4.446   2.828   2.833   3.436   \n",
       "4       8.792  ...   9.388   8.797   9.850   8.476   7.902   8.172   9.550   \n",
       "5      14.020  ...  15.247  14.204  15.155  15.101  13.723  14.884  14.174   \n",
       "6      19.578  ...  19.228  19.511  19.933  19.705  19.381  18.962  19.885   \n",
       "7      21.014  ...  21.663  22.478  22.911  22.352  21.690  21.463  22.078   \n",
       "8         NaN  ...  20.175  21.353  21.079  22.118  20.543  20.436  21.703   \n",
       "9         NaN  ...  16.468  17.730  15.992  17.365  16.567  17.167  17.384   \n",
       "10        NaN  ...  10.670  10.489   9.608  10.932   9.164   8.534  10.913   \n",
       "11        NaN  ...   4.191   3.650   3.400   4.502   3.620   4.251   3.601   \n",
       "12        NaN  ...  -0.930  -1.572  -0.167  -1.748  -2.532  -3.178  -2.942   \n",
       "\n",
       "year     2011    2012    2013  \n",
       "month                          \n",
       "1      -3.507  -2.268  -2.155  \n",
       "2      -1.881   0.582  -1.216  \n",
       "3       3.462   6.024   2.289  \n",
       "4       8.582  10.196   6.970  \n",
       "5      13.759  15.422  14.073  \n",
       "6      19.578  19.954  20.198  \n",
       "7      22.722  23.008  22.074  \n",
       "8      21.915  21.422  21.168  \n",
       "9      17.148  17.036  18.273  \n",
       "10     10.490   9.688     NaN  \n",
       "11      2.966   3.330     NaN  \n",
       "12     -0.635  -1.261     NaN  \n",
       "\n",
       "[12 rows x 215 columns]"
      ]
     },
     "execution_count": 516,
     "metadata": {},
     "output_type": "execute_result"
    }
   ],
   "source": [
    "pivot=usa5.pivot_table(values='AverageTemperature',index='month',columns='year')\n",
    "pivot"
   ]
  },
  {
   "cell_type": "code",
   "execution_count": 517,
   "id": "4bee820b",
   "metadata": {},
   "outputs": [
    {
     "data": {
      "text/plain": [
       "\"\\npivot.plot(figsize=(20,6))\\nplt.legend().remove()\\nplt.xlabel('Months')\\nplt.ylabel('Temperatures')\\n\\n\""
      ]
     },
     "execution_count": 517,
     "metadata": {},
     "output_type": "execute_result"
    }
   ],
   "source": [
    "'''\n",
    "pivot.plot(figsize=(20,6))\n",
    "plt.legend().remove()\n",
    "plt.xlabel('Months')\n",
    "plt.ylabel('Temperatures')\n",
    "\n",
    "'''"
   ]
  },
  {
   "cell_type": "code",
   "execution_count": 518,
   "id": "ff6ccaa4",
   "metadata": {},
   "outputs": [
    {
     "data": {
      "text/plain": [
       "'\\n\\nmonthly_seasonality=pivot.mean(axis=1)\\nmonthly_seasonality.plot(figsize=(20,6))\\nusa5.head()\\n\\n'"
      ]
     },
     "execution_count": 518,
     "metadata": {},
     "output_type": "execute_result"
    }
   ],
   "source": [
    "'''\n",
    "\n",
    "monthly_seasonality=pivot.mean(axis=1)\n",
    "monthly_seasonality.plot(figsize=(20,6))\n",
    "usa5.head()\n",
    "\n",
    "'''"
   ]
  },
  {
   "cell_type": "code",
   "execution_count": 519,
   "id": "c2ab493c",
   "metadata": {},
   "outputs": [
    {
     "data": {
      "text/html": [
       "<div>\n",
       "<style scoped>\n",
       "    .dataframe tbody tr th:only-of-type {\n",
       "        vertical-align: middle;\n",
       "    }\n",
       "\n",
       "    .dataframe tbody tr th {\n",
       "        vertical-align: top;\n",
       "    }\n",
       "\n",
       "    .dataframe thead th {\n",
       "        text-align: right;\n",
       "    }\n",
       "</style>\n",
       "<table border=\"1\" class=\"dataframe\">\n",
       "  <thead>\n",
       "    <tr style=\"text-align: right;\">\n",
       "      <th></th>\n",
       "      <th>dt</th>\n",
       "      <th>AverageTemperature</th>\n",
       "      <th>month</th>\n",
       "      <th>year</th>\n",
       "    </tr>\n",
       "  </thead>\n",
       "  <tbody>\n",
       "    <tr>\n",
       "      <th>0</th>\n",
       "      <td>1768-09-01</td>\n",
       "      <td>15.420</td>\n",
       "      <td>9</td>\n",
       "      <td>1768</td>\n",
       "    </tr>\n",
       "    <tr>\n",
       "      <th>1</th>\n",
       "      <td>1768-10-01</td>\n",
       "      <td>8.162</td>\n",
       "      <td>10</td>\n",
       "      <td>1768</td>\n",
       "    </tr>\n",
       "    <tr>\n",
       "      <th>2</th>\n",
       "      <td>1768-11-01</td>\n",
       "      <td>1.591</td>\n",
       "      <td>11</td>\n",
       "      <td>1768</td>\n",
       "    </tr>\n",
       "    <tr>\n",
       "      <th>3</th>\n",
       "      <td>1768-12-01</td>\n",
       "      <td>-2.882</td>\n",
       "      <td>12</td>\n",
       "      <td>1768</td>\n",
       "    </tr>\n",
       "    <tr>\n",
       "      <th>4</th>\n",
       "      <td>1769-01-01</td>\n",
       "      <td>-3.952</td>\n",
       "      <td>1</td>\n",
       "      <td>1769</td>\n",
       "    </tr>\n",
       "    <tr>\n",
       "      <th>...</th>\n",
       "      <td>...</td>\n",
       "      <td>...</td>\n",
       "      <td>...</td>\n",
       "      <td>...</td>\n",
       "    </tr>\n",
       "    <tr>\n",
       "      <th>2477</th>\n",
       "      <td>2013-05-01</td>\n",
       "      <td>14.073</td>\n",
       "      <td>5</td>\n",
       "      <td>2013</td>\n",
       "    </tr>\n",
       "    <tr>\n",
       "      <th>2478</th>\n",
       "      <td>2013-06-01</td>\n",
       "      <td>20.198</td>\n",
       "      <td>6</td>\n",
       "      <td>2013</td>\n",
       "    </tr>\n",
       "    <tr>\n",
       "      <th>2479</th>\n",
       "      <td>2013-07-01</td>\n",
       "      <td>22.074</td>\n",
       "      <td>7</td>\n",
       "      <td>2013</td>\n",
       "    </tr>\n",
       "    <tr>\n",
       "      <th>2480</th>\n",
       "      <td>2013-08-01</td>\n",
       "      <td>21.168</td>\n",
       "      <td>8</td>\n",
       "      <td>2013</td>\n",
       "    </tr>\n",
       "    <tr>\n",
       "      <th>2481</th>\n",
       "      <td>2013-09-01</td>\n",
       "      <td>18.273</td>\n",
       "      <td>9</td>\n",
       "      <td>2013</td>\n",
       "    </tr>\n",
       "  </tbody>\n",
       "</table>\n",
       "<p>2482 rows × 4 columns</p>\n",
       "</div>"
      ],
      "text/plain": [
       "              dt  AverageTemperature  month  year\n",
       "0     1768-09-01              15.420      9  1768\n",
       "1     1768-10-01               8.162     10  1768\n",
       "2     1768-11-01               1.591     11  1768\n",
       "3     1768-12-01              -2.882     12  1768\n",
       "4     1769-01-01              -3.952      1  1769\n",
       "...          ...                 ...    ...   ...\n",
       "2477  2013-05-01              14.073      5  2013\n",
       "2478  2013-06-01              20.198      6  2013\n",
       "2479  2013-07-01              22.074      7  2013\n",
       "2480  2013-08-01              21.168      8  2013\n",
       "2481  2013-09-01              18.273      9  2013\n",
       "\n",
       "[2482 rows x 4 columns]"
      ]
     },
     "execution_count": 519,
     "metadata": {},
     "output_type": "execute_result"
    }
   ],
   "source": [
    "usa5"
   ]
  },
  {
   "cell_type": "code",
   "execution_count": 520,
   "id": "83910881",
   "metadata": {},
   "outputs": [],
   "source": [
    "usa5=usa5.set_index(\"dt\")"
   ]
  },
  {
   "cell_type": "code",
   "execution_count": 521,
   "id": "a376bd32",
   "metadata": {},
   "outputs": [
    {
     "data": {
      "text/html": [
       "<div>\n",
       "<style scoped>\n",
       "    .dataframe tbody tr th:only-of-type {\n",
       "        vertical-align: middle;\n",
       "    }\n",
       "\n",
       "    .dataframe tbody tr th {\n",
       "        vertical-align: top;\n",
       "    }\n",
       "\n",
       "    .dataframe thead th {\n",
       "        text-align: right;\n",
       "    }\n",
       "</style>\n",
       "<table border=\"1\" class=\"dataframe\">\n",
       "  <thead>\n",
       "    <tr style=\"text-align: right;\">\n",
       "      <th></th>\n",
       "      <th>AverageTemperature</th>\n",
       "    </tr>\n",
       "    <tr>\n",
       "      <th>dt</th>\n",
       "      <th></th>\n",
       "    </tr>\n",
       "  </thead>\n",
       "  <tbody>\n",
       "    <tr>\n",
       "      <th>1768-09-01</th>\n",
       "      <td>15.420</td>\n",
       "    </tr>\n",
       "    <tr>\n",
       "      <th>1768-10-01</th>\n",
       "      <td>8.162</td>\n",
       "    </tr>\n",
       "    <tr>\n",
       "      <th>1768-11-01</th>\n",
       "      <td>1.591</td>\n",
       "    </tr>\n",
       "    <tr>\n",
       "      <th>1768-12-01</th>\n",
       "      <td>-2.882</td>\n",
       "    </tr>\n",
       "    <tr>\n",
       "      <th>1769-01-01</th>\n",
       "      <td>-3.952</td>\n",
       "    </tr>\n",
       "  </tbody>\n",
       "</table>\n",
       "</div>"
      ],
      "text/plain": [
       "            AverageTemperature\n",
       "dt                            \n",
       "1768-09-01              15.420\n",
       "1768-10-01               8.162\n",
       "1768-11-01               1.591\n",
       "1768-12-01              -2.882\n",
       "1769-01-01              -3.952"
      ]
     },
     "execution_count": 521,
     "metadata": {},
     "output_type": "execute_result"
    }
   ],
   "source": [
    "usa5=usa5[['AverageTemperature']]\n",
    "usa5.head()"
   ]
  },
  {
   "cell_type": "code",
   "execution_count": 522,
   "id": "4fdfc781",
   "metadata": {},
   "outputs": [
    {
     "data": {
      "text/plain": [
       "(2482, 1)"
      ]
     },
     "execution_count": 522,
     "metadata": {},
     "output_type": "execute_result"
    }
   ],
   "source": [
    "usa5.shape"
   ]
  },
  {
   "cell_type": "markdown",
   "id": "d4329301",
   "metadata": {},
   "source": [
    "# Smoothning your Time Series data"
   ]
  },
  {
   "cell_type": "code",
   "execution_count": 523,
   "id": "736d385c",
   "metadata": {},
   "outputs": [
    {
     "data": {
      "text/plain": [
       "dt\n",
       "1768-09-01          NaN\n",
       "1768-10-01          NaN\n",
       "1768-11-01     8.391000\n",
       "1768-12-01     2.290333\n",
       "1769-01-01    -1.747667\n",
       "                ...    \n",
       "2013-05-01     7.777333\n",
       "2013-06-01    13.747000\n",
       "2013-07-01    18.781667\n",
       "2013-08-01    21.146667\n",
       "2013-09-01    20.505000\n",
       "Name: AverageTemperature, Length: 2482, dtype: float64"
      ]
     },
     "execution_count": 523,
     "metadata": {},
     "output_type": "execute_result"
    }
   ],
   "source": [
    "usa5['AverageTemperature'].rolling(window=3).mean()"
   ]
  },
  {
   "cell_type": "code",
   "execution_count": 524,
   "id": "47d948e7",
   "metadata": {},
   "outputs": [
    {
     "data": {
      "text/html": [
       "<div>\n",
       "<style scoped>\n",
       "    .dataframe tbody tr th:only-of-type {\n",
       "        vertical-align: middle;\n",
       "    }\n",
       "\n",
       "    .dataframe tbody tr th {\n",
       "        vertical-align: top;\n",
       "    }\n",
       "\n",
       "    .dataframe thead th {\n",
       "        text-align: right;\n",
       "    }\n",
       "</style>\n",
       "<table border=\"1\" class=\"dataframe\">\n",
       "  <thead>\n",
       "    <tr style=\"text-align: right;\">\n",
       "      <th></th>\n",
       "      <th>actual_temp</th>\n",
       "      <th>forecast_temp</th>\n",
       "    </tr>\n",
       "    <tr>\n",
       "      <th>dt</th>\n",
       "      <th></th>\n",
       "      <th></th>\n",
       "    </tr>\n",
       "  </thead>\n",
       "  <tbody>\n",
       "    <tr>\n",
       "      <th>1768-09-01</th>\n",
       "      <td>15.420</td>\n",
       "      <td>NaN</td>\n",
       "    </tr>\n",
       "    <tr>\n",
       "      <th>1768-10-01</th>\n",
       "      <td>8.162</td>\n",
       "      <td>NaN</td>\n",
       "    </tr>\n",
       "    <tr>\n",
       "      <th>1768-11-01</th>\n",
       "      <td>1.591</td>\n",
       "      <td>8.391000</td>\n",
       "    </tr>\n",
       "    <tr>\n",
       "      <th>1768-12-01</th>\n",
       "      <td>-2.882</td>\n",
       "      <td>2.290333</td>\n",
       "    </tr>\n",
       "    <tr>\n",
       "      <th>1769-01-01</th>\n",
       "      <td>-3.952</td>\n",
       "      <td>-1.747667</td>\n",
       "    </tr>\n",
       "    <tr>\n",
       "      <th>1769-02-01</th>\n",
       "      <td>-2.684</td>\n",
       "      <td>-3.172667</td>\n",
       "    </tr>\n",
       "    <tr>\n",
       "      <th>1769-03-01</th>\n",
       "      <td>1.828</td>\n",
       "      <td>-1.602667</td>\n",
       "    </tr>\n",
       "    <tr>\n",
       "      <th>1769-04-01</th>\n",
       "      <td>8.843</td>\n",
       "      <td>2.662333</td>\n",
       "    </tr>\n",
       "    <tr>\n",
       "      <th>1769-05-01</th>\n",
       "      <td>15.724</td>\n",
       "      <td>8.798333</td>\n",
       "    </tr>\n",
       "    <tr>\n",
       "      <th>1769-06-01</th>\n",
       "      <td>20.933</td>\n",
       "      <td>15.166667</td>\n",
       "    </tr>\n",
       "  </tbody>\n",
       "</table>\n",
       "</div>"
      ],
      "text/plain": [
       "            actual_temp  forecast_temp\n",
       "dt                                    \n",
       "1768-09-01       15.420            NaN\n",
       "1768-10-01        8.162            NaN\n",
       "1768-11-01        1.591       8.391000\n",
       "1768-12-01       -2.882       2.290333\n",
       "1769-01-01       -3.952      -1.747667\n",
       "1769-02-01       -2.684      -3.172667\n",
       "1769-03-01        1.828      -1.602667\n",
       "1769-04-01        8.843       2.662333\n",
       "1769-05-01       15.724       8.798333\n",
       "1769-06-01       20.933      15.166667"
      ]
     },
     "execution_count": 524,
     "metadata": {},
     "output_type": "execute_result"
    }
   ],
   "source": [
    "value=pd.DataFrame(usa5['AverageTemperature'])\n",
    "temp_df=pd.concat([value,usa5['AverageTemperature'].rolling(window=3).mean()],axis=1)\n",
    "temp_df.columns=['actual_temp','forecast_temp']\n",
    "temp_df.head(10)"
   ]
  },
  {
   "cell_type": "code",
   "execution_count": 525,
   "id": "ef7680c7",
   "metadata": {},
   "outputs": [],
   "source": [
    "from sklearn.metrics import mean_squared_error"
   ]
  },
  {
   "cell_type": "code",
   "execution_count": 526,
   "id": "79826cc6",
   "metadata": {},
   "outputs": [
    {
     "data": {
      "text/plain": [
       "4.560847359331975"
      ]
     },
     "execution_count": 526,
     "metadata": {},
     "output_type": "execute_result"
    }
   ],
   "source": [
    "np.sqrt(mean_squared_error(temp_df['forecast_temp'][2:],temp_df['actual_temp'][2:]))"
   ]
  },
  {
   "cell_type": "markdown",
   "id": "3d6eb203",
   "metadata": {},
   "source": [
    "# Lets Implement ARIMA"
   ]
  },
  {
   "cell_type": "code",
   "execution_count": 527,
   "id": "6fdae078",
   "metadata": {},
   "outputs": [
    {
     "data": {
      "text/html": [
       "<div>\n",
       "<style scoped>\n",
       "    .dataframe tbody tr th:only-of-type {\n",
       "        vertical-align: middle;\n",
       "    }\n",
       "\n",
       "    .dataframe tbody tr th {\n",
       "        vertical-align: top;\n",
       "    }\n",
       "\n",
       "    .dataframe thead th {\n",
       "        text-align: right;\n",
       "    }\n",
       "</style>\n",
       "<table border=\"1\" class=\"dataframe\">\n",
       "  <thead>\n",
       "    <tr style=\"text-align: right;\">\n",
       "      <th></th>\n",
       "      <th>AverageTemperature</th>\n",
       "    </tr>\n",
       "    <tr>\n",
       "      <th>dt</th>\n",
       "      <th></th>\n",
       "    </tr>\n",
       "  </thead>\n",
       "  <tbody>\n",
       "    <tr>\n",
       "      <th>1768-09-01</th>\n",
       "      <td>15.420</td>\n",
       "    </tr>\n",
       "    <tr>\n",
       "      <th>1768-10-01</th>\n",
       "      <td>8.162</td>\n",
       "    </tr>\n",
       "    <tr>\n",
       "      <th>1768-11-01</th>\n",
       "      <td>1.591</td>\n",
       "    </tr>\n",
       "    <tr>\n",
       "      <th>1768-12-01</th>\n",
       "      <td>-2.882</td>\n",
       "    </tr>\n",
       "    <tr>\n",
       "      <th>1769-01-01</th>\n",
       "      <td>-3.952</td>\n",
       "    </tr>\n",
       "  </tbody>\n",
       "</table>\n",
       "</div>"
      ],
      "text/plain": [
       "            AverageTemperature\n",
       "dt                            \n",
       "1768-09-01              15.420\n",
       "1768-10-01               8.162\n",
       "1768-11-01               1.591\n",
       "1768-12-01              -2.882\n",
       "1769-01-01              -3.952"
      ]
     },
     "execution_count": 527,
     "metadata": {},
     "output_type": "execute_result"
    }
   ],
   "source": [
    "\n",
    "\n",
    "from statsmodels.graphics.tsaplots import plot_acf,plot_pacf\n",
    "usa5.head()\n",
    "\n"
   ]
  },
  {
   "cell_type": "code",
   "execution_count": 528,
   "id": "ca7514df",
   "metadata": {},
   "outputs": [],
   "source": [
    "\n",
    "\n",
    "#plot_acf(usa5['AverageTemperature'].dropna())\n",
    "\n"
   ]
  },
  {
   "cell_type": "code",
   "execution_count": 529,
   "id": "c2740bc7",
   "metadata": {},
   "outputs": [],
   "source": [
    "#plot_pacf(usa5['AverageTemperature'].dropna())"
   ]
  },
  {
   "cell_type": "code",
   "execution_count": 530,
   "id": "d4498997",
   "metadata": {},
   "outputs": [
    {
     "data": {
      "text/plain": [
       "(2482, 1)"
      ]
     },
     "execution_count": 530,
     "metadata": {},
     "output_type": "execute_result"
    }
   ],
   "source": [
    "usa5.shape"
   ]
  },
  {
   "cell_type": "code",
   "execution_count": 531,
   "id": "8df87125",
   "metadata": {},
   "outputs": [],
   "source": [
    "training_data=usa5[0:2000]\n",
    "### create test that is basically unseen to our model, or which is basocally is used for evalaution\n",
    "test_data=usa5[2000:]"
   ]
  },
  {
   "cell_type": "code",
   "execution_count": 532,
   "id": "a5029c59",
   "metadata": {},
   "outputs": [],
   "source": [
    "from statsmodels.tsa.arima.model import ARIMA"
   ]
  },
  {
   "cell_type": "code",
   "execution_count": 533,
   "id": "80fc0107",
   "metadata": {},
   "outputs": [
    {
     "data": {
      "text/plain": [
       "2.7176688304787104"
      ]
     },
     "execution_count": 533,
     "metadata": {},
     "output_type": "execute_result"
    }
   ],
   "source": [
    "arima=ARIMA(training_data,order=(2,1,7))\n",
    "\n",
    "model=arima.fit()\n",
    "\n",
    "predictions=model.forecast(steps=len(test_data))\n",
    "\n",
    "np.sqrt(mean_squared_error(test_data,predictions))"
   ]
  },
  {
   "cell_type": "markdown",
   "id": "af0f820c",
   "metadata": {},
   "source": [
    "# Hyperparameter Tuning or choosing the best pair of (p,d,q)"
   ]
  },
  {
   "cell_type": "code",
   "execution_count": 534,
   "id": "4755f80d",
   "metadata": {},
   "outputs": [
    {
     "name": "stdout",
     "output_type": "stream",
     "text": [
      "MSE is 2.7176688304787104 with order (2, 1, 7)\n"
     ]
    }
   ],
   "source": [
    "\"\"\"\n",
    "\n",
    "p=2\n",
    "d=1\n",
    "q=7\n",
    "predictions=[]\n",
    "order=(p,d,q)\n",
    "train=usa5[0:2000]\n",
    "test=usa5[2000:]\n",
    "#arima=ARIMA(endog=train,order=(p,d,q))\n",
    "arima=ARIMA(training_data,order=(5,1,7))\n",
    "model=arima.fit()\n",
    "pred=model.forecast(steps=len(test))\n",
    "predictions.append(pred)\n",
    "error=mean_squared_error(test,predictions)\n",
    "print('MSE is {} with order {}'.format(error,order))\n",
    "\n",
    "\"\"\"\n",
    "predictions=[]\n",
    "order=(2,1,7)\n",
    "arima=ARIMA(training_data, order=(2,1,7))\n",
    "\n",
    "model=arima.fit()\n",
    "\n",
    "predictions=model.forecast(steps=len(test_data))\n",
    "\n",
    "predictions.append(predictions)\n",
    "error=np.sqrt(mean_squared_error(test_data,predictions))\n",
    "print('MSE is {} with order {}'.format(error,order))\n",
    "\n",
    "\n"
   ]
  },
  {
   "cell_type": "code",
   "execution_count": 535,
   "id": "0cee7f69",
   "metadata": {},
   "outputs": [
    {
     "data": {
      "text/html": [
       "<div>\n",
       "<style scoped>\n",
       "    .dataframe tbody tr th:only-of-type {\n",
       "        vertical-align: middle;\n",
       "    }\n",
       "\n",
       "    .dataframe tbody tr th {\n",
       "        vertical-align: top;\n",
       "    }\n",
       "\n",
       "    .dataframe thead th {\n",
       "        text-align: right;\n",
       "    }\n",
       "</style>\n",
       "<table border=\"1\" class=\"dataframe\">\n",
       "  <thead>\n",
       "    <tr style=\"text-align: right;\">\n",
       "      <th></th>\n",
       "      <th>index</th>\n",
       "      <th>predicted_mean</th>\n",
       "    </tr>\n",
       "  </thead>\n",
       "  <tbody>\n",
       "    <tr>\n",
       "      <th>0</th>\n",
       "      <td>2000</td>\n",
       "      <td>20.117889</td>\n",
       "    </tr>\n",
       "    <tr>\n",
       "      <th>1</th>\n",
       "      <td>2001</td>\n",
       "      <td>15.748393</td>\n",
       "    </tr>\n",
       "    <tr>\n",
       "      <th>2</th>\n",
       "      <td>2002</td>\n",
       "      <td>9.459199</td>\n",
       "    </tr>\n",
       "    <tr>\n",
       "      <th>3</th>\n",
       "      <td>2003</td>\n",
       "      <td>3.100104</td>\n",
       "    </tr>\n",
       "    <tr>\n",
       "      <th>4</th>\n",
       "      <td>2004</td>\n",
       "      <td>-1.669900</td>\n",
       "    </tr>\n",
       "    <tr>\n",
       "      <th>...</th>\n",
       "      <td>...</td>\n",
       "      <td>...</td>\n",
       "    </tr>\n",
       "    <tr>\n",
       "      <th>477</th>\n",
       "      <td>2477</td>\n",
       "      <td>11.737297</td>\n",
       "    </tr>\n",
       "    <tr>\n",
       "      <th>478</th>\n",
       "      <td>2478</td>\n",
       "      <td>14.406481</td>\n",
       "    </tr>\n",
       "    <tr>\n",
       "      <th>479</th>\n",
       "      <td>2479</td>\n",
       "      <td>15.555787</td>\n",
       "    </tr>\n",
       "    <tr>\n",
       "      <th>480</th>\n",
       "      <td>2480</td>\n",
       "      <td>14.881522</td>\n",
       "    </tr>\n",
       "    <tr>\n",
       "      <th>481</th>\n",
       "      <td>2481</td>\n",
       "      <td>12.568689</td>\n",
       "    </tr>\n",
       "  </tbody>\n",
       "</table>\n",
       "<p>482 rows × 2 columns</p>\n",
       "</div>"
      ],
      "text/plain": [
       "     index  predicted_mean\n",
       "0     2000       20.117889\n",
       "1     2001       15.748393\n",
       "2     2002        9.459199\n",
       "3     2003        3.100104\n",
       "4     2004       -1.669900\n",
       "..     ...             ...\n",
       "477   2477       11.737297\n",
       "478   2478       14.406481\n",
       "479   2479       15.555787\n",
       "480   2480       14.881522\n",
       "481   2481       12.568689\n",
       "\n",
       "[482 rows x 2 columns]"
      ]
     },
     "execution_count": 535,
     "metadata": {},
     "output_type": "execute_result"
    }
   ],
   "source": [
    "\n",
    "pred=predictions.reset_index()\n",
    "pred"
   ]
  },
  {
   "cell_type": "code",
   "execution_count": 538,
   "id": "e405fbed",
   "metadata": {},
   "outputs": [],
   "source": [
    "forecasting=pd.DataFrame.rename(pred,columns={\"index\":\"year\",\"predicted_mean\":\"avg_temprature\"})"
   ]
  },
  {
   "cell_type": "code",
   "execution_count": 539,
   "id": "e8af46de",
   "metadata": {},
   "outputs": [
    {
     "data": {
      "text/html": [
       "<div>\n",
       "<style scoped>\n",
       "    .dataframe tbody tr th:only-of-type {\n",
       "        vertical-align: middle;\n",
       "    }\n",
       "\n",
       "    .dataframe tbody tr th {\n",
       "        vertical-align: top;\n",
       "    }\n",
       "\n",
       "    .dataframe thead th {\n",
       "        text-align: right;\n",
       "    }\n",
       "</style>\n",
       "<table border=\"1\" class=\"dataframe\">\n",
       "  <thead>\n",
       "    <tr style=\"text-align: right;\">\n",
       "      <th></th>\n",
       "      <th>year</th>\n",
       "      <th>avg_temprature</th>\n",
       "    </tr>\n",
       "  </thead>\n",
       "  <tbody>\n",
       "    <tr>\n",
       "      <th>0</th>\n",
       "      <td>2000</td>\n",
       "      <td>20.117889</td>\n",
       "    </tr>\n",
       "    <tr>\n",
       "      <th>1</th>\n",
       "      <td>2001</td>\n",
       "      <td>15.748393</td>\n",
       "    </tr>\n",
       "    <tr>\n",
       "      <th>2</th>\n",
       "      <td>2002</td>\n",
       "      <td>9.459199</td>\n",
       "    </tr>\n",
       "    <tr>\n",
       "      <th>3</th>\n",
       "      <td>2003</td>\n",
       "      <td>3.100104</td>\n",
       "    </tr>\n",
       "    <tr>\n",
       "      <th>4</th>\n",
       "      <td>2004</td>\n",
       "      <td>-1.669900</td>\n",
       "    </tr>\n",
       "    <tr>\n",
       "      <th>...</th>\n",
       "      <td>...</td>\n",
       "      <td>...</td>\n",
       "    </tr>\n",
       "    <tr>\n",
       "      <th>477</th>\n",
       "      <td>2477</td>\n",
       "      <td>11.737297</td>\n",
       "    </tr>\n",
       "    <tr>\n",
       "      <th>478</th>\n",
       "      <td>2478</td>\n",
       "      <td>14.406481</td>\n",
       "    </tr>\n",
       "    <tr>\n",
       "      <th>479</th>\n",
       "      <td>2479</td>\n",
       "      <td>15.555787</td>\n",
       "    </tr>\n",
       "    <tr>\n",
       "      <th>480</th>\n",
       "      <td>2480</td>\n",
       "      <td>14.881522</td>\n",
       "    </tr>\n",
       "    <tr>\n",
       "      <th>481</th>\n",
       "      <td>2481</td>\n",
       "      <td>12.568689</td>\n",
       "    </tr>\n",
       "  </tbody>\n",
       "</table>\n",
       "<p>482 rows × 2 columns</p>\n",
       "</div>"
      ],
      "text/plain": [
       "     year  avg_temprature\n",
       "0    2000       20.117889\n",
       "1    2001       15.748393\n",
       "2    2002        9.459199\n",
       "3    2003        3.100104\n",
       "4    2004       -1.669900\n",
       "..    ...             ...\n",
       "477  2477       11.737297\n",
       "478  2478       14.406481\n",
       "479  2479       15.555787\n",
       "480  2480       14.881522\n",
       "481  2481       12.568689\n",
       "\n",
       "[482 rows x 2 columns]"
      ]
     },
     "execution_count": 539,
     "metadata": {},
     "output_type": "execute_result"
    }
   ],
   "source": [
    "forecasting"
   ]
  },
  {
   "cell_type": "code",
   "execution_count": 540,
   "id": "fb7b1a72",
   "metadata": {},
   "outputs": [],
   "source": [
    "forcast=forecasting.set_index(\"year\")"
   ]
  },
  {
   "cell_type": "code",
   "execution_count": 541,
   "id": "f7a2818d",
   "metadata": {},
   "outputs": [
    {
     "data": {
      "text/html": [
       "<div>\n",
       "<style scoped>\n",
       "    .dataframe tbody tr th:only-of-type {\n",
       "        vertical-align: middle;\n",
       "    }\n",
       "\n",
       "    .dataframe tbody tr th {\n",
       "        vertical-align: top;\n",
       "    }\n",
       "\n",
       "    .dataframe thead th {\n",
       "        text-align: right;\n",
       "    }\n",
       "</style>\n",
       "<table border=\"1\" class=\"dataframe\">\n",
       "  <thead>\n",
       "    <tr style=\"text-align: right;\">\n",
       "      <th></th>\n",
       "      <th>avg_temprature</th>\n",
       "    </tr>\n",
       "    <tr>\n",
       "      <th>year</th>\n",
       "      <th></th>\n",
       "    </tr>\n",
       "  </thead>\n",
       "  <tbody>\n",
       "    <tr>\n",
       "      <th>2000</th>\n",
       "      <td>20.117889</td>\n",
       "    </tr>\n",
       "    <tr>\n",
       "      <th>2001</th>\n",
       "      <td>15.748393</td>\n",
       "    </tr>\n",
       "    <tr>\n",
       "      <th>2002</th>\n",
       "      <td>9.459199</td>\n",
       "    </tr>\n",
       "    <tr>\n",
       "      <th>2003</th>\n",
       "      <td>3.100104</td>\n",
       "    </tr>\n",
       "    <tr>\n",
       "      <th>2004</th>\n",
       "      <td>-1.669900</td>\n",
       "    </tr>\n",
       "    <tr>\n",
       "      <th>...</th>\n",
       "      <td>...</td>\n",
       "    </tr>\n",
       "    <tr>\n",
       "      <th>2477</th>\n",
       "      <td>11.737297</td>\n",
       "    </tr>\n",
       "    <tr>\n",
       "      <th>2478</th>\n",
       "      <td>14.406481</td>\n",
       "    </tr>\n",
       "    <tr>\n",
       "      <th>2479</th>\n",
       "      <td>15.555787</td>\n",
       "    </tr>\n",
       "    <tr>\n",
       "      <th>2480</th>\n",
       "      <td>14.881522</td>\n",
       "    </tr>\n",
       "    <tr>\n",
       "      <th>2481</th>\n",
       "      <td>12.568689</td>\n",
       "    </tr>\n",
       "  </tbody>\n",
       "</table>\n",
       "<p>482 rows × 1 columns</p>\n",
       "</div>"
      ],
      "text/plain": [
       "      avg_temprature\n",
       "year                \n",
       "2000       20.117889\n",
       "2001       15.748393\n",
       "2002        9.459199\n",
       "2003        3.100104\n",
       "2004       -1.669900\n",
       "...              ...\n",
       "2477       11.737297\n",
       "2478       14.406481\n",
       "2479       15.555787\n",
       "2480       14.881522\n",
       "2481       12.568689\n",
       "\n",
       "[482 rows x 1 columns]"
      ]
     },
     "execution_count": 541,
     "metadata": {},
     "output_type": "execute_result"
    }
   ],
   "source": [
    "forcast"
   ]
  },
  {
   "cell_type": "code",
   "execution_count": null,
   "id": "883432fd",
   "metadata": {},
   "outputs": [],
   "source": []
  },
  {
   "cell_type": "code",
   "execution_count": null,
   "id": "c6896cb4",
   "metadata": {},
   "outputs": [],
   "source": []
  },
  {
   "cell_type": "markdown",
   "id": "3a5bcbc8",
   "metadata": {},
   "source": [
    "# pickle file"
   ]
  },
  {
   "cell_type": "code",
   "execution_count": 542,
   "id": "3166b12a",
   "metadata": {},
   "outputs": [],
   "source": [
    "import pickle\n",
    "# creating a pickle file\n",
    "filename = 'Final_for.sav'\n",
    "pickle.dump(model,open(filename, 'wb'))"
   ]
  },
  {
   "cell_type": "code",
   "execution_count": 543,
   "id": "6ca96df3",
   "metadata": {},
   "outputs": [],
   "source": [
    "# loading the saved model \n",
    "loaded_model = pickle.load(open('Final_for.sav','rb'))"
   ]
  },
  {
   "cell_type": "code",
   "execution_count": null,
   "id": "6da4f4f4",
   "metadata": {},
   "outputs": [],
   "source": []
  },
  {
   "cell_type": "code",
   "execution_count": 576,
   "id": "076c3201",
   "metadata": {},
   "outputs": [
    {
     "data": {
      "text/html": [
       "<div>\n",
       "<style scoped>\n",
       "    .dataframe tbody tr th:only-of-type {\n",
       "        vertical-align: middle;\n",
       "    }\n",
       "\n",
       "    .dataframe tbody tr th {\n",
       "        vertical-align: top;\n",
       "    }\n",
       "\n",
       "    .dataframe thead th {\n",
       "        text-align: right;\n",
       "    }\n",
       "</style>\n",
       "<table border=\"1\" class=\"dataframe\">\n",
       "  <thead>\n",
       "    <tr style=\"text-align: right;\">\n",
       "      <th></th>\n",
       "      <th>avg_temprature</th>\n",
       "    </tr>\n",
       "    <tr>\n",
       "      <th>year</th>\n",
       "      <th></th>\n",
       "    </tr>\n",
       "  </thead>\n",
       "  <tbody>\n",
       "    <tr>\n",
       "      <th>2000</th>\n",
       "      <td>20.117889</td>\n",
       "    </tr>\n",
       "    <tr>\n",
       "      <th>2001</th>\n",
       "      <td>15.748393</td>\n",
       "    </tr>\n",
       "    <tr>\n",
       "      <th>2002</th>\n",
       "      <td>9.459199</td>\n",
       "    </tr>\n",
       "    <tr>\n",
       "      <th>2003</th>\n",
       "      <td>3.100104</td>\n",
       "    </tr>\n",
       "    <tr>\n",
       "      <th>2004</th>\n",
       "      <td>-1.669900</td>\n",
       "    </tr>\n",
       "    <tr>\n",
       "      <th>...</th>\n",
       "      <td>...</td>\n",
       "    </tr>\n",
       "    <tr>\n",
       "      <th>2477</th>\n",
       "      <td>11.737297</td>\n",
       "    </tr>\n",
       "    <tr>\n",
       "      <th>2478</th>\n",
       "      <td>14.406481</td>\n",
       "    </tr>\n",
       "    <tr>\n",
       "      <th>2479</th>\n",
       "      <td>15.555787</td>\n",
       "    </tr>\n",
       "    <tr>\n",
       "      <th>2480</th>\n",
       "      <td>14.881522</td>\n",
       "    </tr>\n",
       "    <tr>\n",
       "      <th>2481</th>\n",
       "      <td>12.568689</td>\n",
       "    </tr>\n",
       "  </tbody>\n",
       "</table>\n",
       "<p>482 rows × 1 columns</p>\n",
       "</div>"
      ],
      "text/plain": [
       "      avg_temprature\n",
       "year                \n",
       "2000       20.117889\n",
       "2001       15.748393\n",
       "2002        9.459199\n",
       "2003        3.100104\n",
       "2004       -1.669900\n",
       "...              ...\n",
       "2477       11.737297\n",
       "2478       14.406481\n",
       "2479       15.555787\n",
       "2480       14.881522\n",
       "2481       12.568689\n",
       "\n",
       "[482 rows x 1 columns]"
      ]
     },
     "execution_count": 576,
     "metadata": {},
     "output_type": "execute_result"
    }
   ],
   "source": [
    "predictions=[]\n",
    "predictions=loaded_model.forecast(steps=len(test_data))\n",
    "predictions.append(predictions)\n",
    "pred=predictions.reset_index()\n",
    "forecasting=pd.DataFrame.rename(pred,columns={\"index\":\"year\",\"predicted_mean\":\"avg_temprature\"})\n",
    "forcast=forecasting.set_index(\"year\")\n",
    "\n",
    "\n",
    "\n"
   ]
  },
  {
   "cell_type": "code",
   "execution_count": 584,
   "id": "0a611983",
   "metadata": {},
   "outputs": [
    {
     "data": {
      "text/plain": [
       "15.748393413613938"
      ]
     },
     "execution_count": 584,
     "metadata": {},
     "output_type": "execute_result"
    }
   ],
   "source": [
    "forcast['avg_temprature'][2001]"
   ]
  },
  {
   "cell_type": "code",
   "execution_count": null,
   "id": "b13a30d9",
   "metadata": {},
   "outputs": [],
   "source": [
    "input_data = pd.DataFrame({'year': [year]})"
   ]
  },
  {
   "cell_type": "code",
   "execution_count": 573,
   "id": "6dd39ce4",
   "metadata": {},
   "outputs": [
    {
     "data": {
      "text/plain": [
       "2000    20.117889\n",
       "2001    15.748393\n",
       "2002     9.459199\n",
       "2003     3.100104\n",
       "2004    -1.669900\n",
       "          ...    \n",
       "2477    11.737297\n",
       "2478    14.406481\n",
       "2479    15.555787\n",
       "2480    14.881522\n",
       "2481    12.568689\n",
       "Name: predicted_mean, Length: 482, dtype: float64"
      ]
     },
     "execution_count": 573,
     "metadata": {},
     "output_type": "execute_result"
    }
   ],
   "source": [
    "predictions"
   ]
  },
  {
   "cell_type": "code",
   "execution_count": null,
   "id": "53814600",
   "metadata": {},
   "outputs": [],
   "source": []
  },
  {
   "cell_type": "code",
   "execution_count": null,
   "id": "f0359aa0",
   "metadata": {},
   "outputs": [],
   "source": []
  },
  {
   "cell_type": "code",
   "execution_count": 551,
   "id": "a7cc8974",
   "metadata": {},
   "outputs": [],
   "source": [
    "import streamlit as st\n",
    "import pandas as pd\n",
    "import pickle\n",
    "\n",
    "# load the saved model from the .sav file\n",
    "with open('Final_for.sav', 'rb') as file:\n",
    "    model = pickle.load(file)\n",
    "\n",
    "# function to get the temperature prediction for a given year\n",
    "def predict_temperature(year):\n",
    "    # create a DataFrame with the input year as a single row\n",
    "    input_data = pd.DataFrame({'year': [year]})\n",
    "\n",
    "    # use the model to make a single prediction for the input year\n",
    "    prediction = model.forecast(steps=len(input_data), exog=input_data)\n",
    "\n",
    "    # return the predicted temperature as a float\n",
    "    return prediction\n",
    "\n",
    "# create a Streamlit app\n",
    "st.title('Temperature Prediction')\n",
    "year = st.number_input('Enter a year:', min_value=2000, max_value=2482, step=1)\n",
    "if st.button('Predict'):\n",
    "    temperature = predict_temperature(year)\n",
    "    st.write(f'The predicted temperature for {year} is {temperature:.2f} degrees.')\n"
   ]
  }
 ],
 "metadata": {
  "kernelspec": {
   "display_name": "Python 3 (ipykernel)",
   "language": "python",
   "name": "python3"
  },
  "language_info": {
   "codemirror_mode": {
    "name": "ipython",
    "version": 3
   },
   "file_extension": ".py",
   "mimetype": "text/x-python",
   "name": "python",
   "nbconvert_exporter": "python",
   "pygments_lexer": "ipython3",
   "version": "3.9.13"
  }
 },
 "nbformat": 4,
 "nbformat_minor": 5
}
